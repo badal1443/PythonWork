{
 "cells": [
  {
   "cell_type": "markdown",
   "id": "3a883e62-5ea1-4715-ac7e-c53760fb1a8a",
   "metadata": {},
   "source": [
    "## Basic Array operations, arithmetic and logical operations \n"
   ]
  },
  {
   "cell_type": "code",
   "execution_count": null,
   "id": "0ffb46c8-ae99-4829-b0b9-9eb8c21ad3b8",
   "metadata": {},
   "outputs": [],
   "source": [
    "#addition, subtraction, multiplication and division"
   ]
  },
  {
   "cell_type": "code",
   "execution_count": 2,
   "id": "9072e316-149e-4264-9f90-20b611728ad8",
   "metadata": {},
   "outputs": [],
   "source": [
    "import numpy as np"
   ]
  },
  {
   "cell_type": "code",
   "execution_count": 3,
   "id": "e2cb6ac9-c705-482f-a6dd-48e914cf9b69",
   "metadata": {},
   "outputs": [],
   "source": [
    "arr1 = [1,2,3,4,5]\n",
    "arr2 = [6,7,8,9,10]\n",
    "\n",
    "arr1 = np.array(arr1)\n",
    "arr2 = np.array(arr2)"
   ]
  },
  {
   "cell_type": "code",
   "execution_count": 7,
   "id": "7b9f1ff2-2c8f-45cc-8dca-af895ab553bc",
   "metadata": {},
   "outputs": [
    {
     "data": {
      "text/plain": [
       "array([ 7,  9, 11, 13, 15])"
      ]
     },
     "execution_count": 7,
     "metadata": {},
     "output_type": "execute_result"
    }
   ],
   "source": [
    "arr3=arr1+arr2\n",
    "arr3\n"
   ]
  },
  {
   "cell_type": "code",
   "execution_count": 6,
   "id": "7b3d6f4e-3fc6-4b00-b78d-632ff7586305",
   "metadata": {},
   "outputs": [
    {
     "data": {
      "text/plain": [
       "(array([1, 2, 3, 4, 5]), array([ 6,  7,  8,  9, 10]))"
      ]
     },
     "execution_count": 6,
     "metadata": {},
     "output_type": "execute_result"
    }
   ],
   "source": [
    "arr1,arr2"
   ]
  },
  {
   "cell_type": "code",
   "execution_count": 8,
   "id": "1ccbcec7-9597-465a-9273-6e3502c7a497",
   "metadata": {},
   "outputs": [
    {
     "data": {
      "text/plain": [
       "array([0.16666667, 0.28571429, 0.375     , 0.44444444, 0.5       ])"
      ]
     },
     "execution_count": 8,
     "metadata": {},
     "output_type": "execute_result"
    }
   ],
   "source": [
    "arr1/arr2 #vector to vector division"
   ]
  },
  {
   "cell_type": "code",
   "execution_count": 9,
   "id": "26fc8fcd-56b1-424b-b092-9aeb647d9989",
   "metadata": {},
   "outputs": [
    {
     "data": {
      "text/plain": [
       "array([0.1, 0.2, 0.3, 0.4, 0.5])"
      ]
     },
     "execution_count": 9,
     "metadata": {},
     "output_type": "execute_result"
    }
   ],
   "source": [
    "arr1/10 #vector to scalar division"
   ]
  },
  {
   "cell_type": "code",
   "execution_count": 10,
   "id": "ea5c75a3-c9d0-4d70-a8b5-90f9493d8b5f",
   "metadata": {},
   "outputs": [
    {
     "data": {
      "text/plain": [
       "array([ 6,  7,  8,  9, 10])"
      ]
     },
     "execution_count": 10,
     "metadata": {},
     "output_type": "execute_result"
    }
   ],
   "source": [
    "arr1+ 5"
   ]
  },
  {
   "cell_type": "code",
   "execution_count": 11,
   "id": "935239ea-c1ba-4662-b066-9212f2ff6378",
   "metadata": {},
   "outputs": [
    {
     "data": {
      "text/plain": [
       "array([ 7,  9, 11, 13, 15])"
      ]
     },
     "execution_count": 11,
     "metadata": {},
     "output_type": "execute_result"
    }
   ],
   "source": [
    "arr1 + arr2"
   ]
  },
  {
   "cell_type": "code",
   "execution_count": 12,
   "id": "f3581263-71cc-4d0e-a953-bed02a38fb8e",
   "metadata": {},
   "outputs": [
    {
     "data": {
      "text/plain": [
       "array([ 2,  4,  6,  8, 10])"
      ]
     },
     "execution_count": 12,
     "metadata": {},
     "output_type": "execute_result"
    }
   ],
   "source": [
    "arr1*2"
   ]
  },
  {
   "cell_type": "markdown",
   "id": "c341ee30-38c0-475e-8a75-ae53b90b1d98",
   "metadata": {},
   "source": [
    "#Logical operations"
   ]
  },
  {
   "cell_type": "code",
   "execution_count": 14,
   "id": "ab097375-0707-49a1-9e14-cbe471f3c771",
   "metadata": {},
   "outputs": [
    {
     "data": {
      "text/plain": [
       "array([False, False,  True,  True,  True])"
      ]
     },
     "execution_count": 14,
     "metadata": {},
     "output_type": "execute_result"
    }
   ],
   "source": [
    "arr1>2"
   ]
  },
  {
   "cell_type": "code",
   "execution_count": 15,
   "id": "dd27f0c0-fb03-43c4-8a34-2742566ec970",
   "metadata": {},
   "outputs": [
    {
     "data": {
      "text/plain": [
       "array([3, 4, 5])"
      ]
     },
     "execution_count": 15,
     "metadata": {},
     "output_type": "execute_result"
    }
   ],
   "source": [
    "arr1[arr1>2]"
   ]
  },
  {
   "cell_type": "markdown",
   "id": "813ca627-e774-427c-84f8-469f08ed9f51",
   "metadata": {},
   "source": [
    "## Any and all functions to check if condition is satisfied in array"
   ]
  },
  {
   "cell_type": "code",
   "execution_count": 16,
   "id": "6c9f03c0-dfdb-49ff-9526-a915c275ad4c",
   "metadata": {},
   "outputs": [
    {
     "data": {
      "text/plain": [
       "True"
      ]
     },
     "execution_count": 16,
     "metadata": {},
     "output_type": "execute_result"
    }
   ],
   "source": [
    "np.any(arr2>6)"
   ]
  },
  {
   "cell_type": "code",
   "execution_count": 17,
   "id": "917053d3-6b5a-496e-9da5-0e22991bad11",
   "metadata": {},
   "outputs": [
    {
     "data": {
      "text/plain": [
       "False"
      ]
     },
     "execution_count": 17,
     "metadata": {},
     "output_type": "execute_result"
    }
   ],
   "source": [
    "np.all(arr1>3)"
   ]
  },
  {
   "cell_type": "markdown",
   "id": "586b9b74-3aa3-4208-b2b2-c7105e06bec1",
   "metadata": {},
   "source": [
    "## Finding insersection with logical and, T * T = T, F * T = F, F*F=F"
   ]
  },
  {
   "cell_type": "code",
   "execution_count": 18,
   "id": "03894b88-8cf8-47a6-b046-924c3b3232f7",
   "metadata": {},
   "outputs": [],
   "source": [
    "arr4= (arr1>2)"
   ]
  },
  {
   "cell_type": "code",
   "execution_count": 19,
   "id": "484d121c-126d-43ca-ab25-e76bf41dffdf",
   "metadata": {},
   "outputs": [
    {
     "data": {
      "text/plain": [
       "array([False, False,  True,  True,  True])"
      ]
     },
     "execution_count": 19,
     "metadata": {},
     "output_type": "execute_result"
    }
   ],
   "source": [
    "arr4"
   ]
  },
  {
   "cell_type": "code",
   "execution_count": 26,
   "id": "8454e39e-aac9-4b5f-ae34-16a03fdea184",
   "metadata": {},
   "outputs": [],
   "source": [
    "arr5 = (arr2>9)"
   ]
  },
  {
   "cell_type": "code",
   "execution_count": 27,
   "id": "016a0ef1-2078-4ee9-b176-252ace685a7a",
   "metadata": {},
   "outputs": [
    {
     "data": {
      "text/plain": [
       "array([False, False, False, False,  True])"
      ]
     },
     "execution_count": 27,
     "metadata": {},
     "output_type": "execute_result"
    }
   ],
   "source": [
    "arr5"
   ]
  },
  {
   "cell_type": "code",
   "execution_count": 28,
   "id": "2a5a5f50-ea3f-42f4-8b69-718d08c82430",
   "metadata": {},
   "outputs": [
    {
     "data": {
      "text/plain": [
       "array([False, False, False, False,  True])"
      ]
     },
     "execution_count": 28,
     "metadata": {},
     "output_type": "execute_result"
    }
   ],
   "source": [
    "arr4 & arr5"
   ]
  },
  {
   "cell_type": "code",
   "execution_count": null,
   "id": "87c093b0-a7bb-4073-af5d-d532d3c61883",
   "metadata": {},
   "outputs": [],
   "source": []
  }
 ],
 "metadata": {
  "kernelspec": {
   "display_name": "Python 3 (ipykernel)",
   "language": "python",
   "name": "python3"
  },
  "language_info": {
   "codemirror_mode": {
    "name": "ipython",
    "version": 3
   },
   "file_extension": ".py",
   "mimetype": "text/x-python",
   "name": "python",
   "nbconvert_exporter": "python",
   "pygments_lexer": "ipython3",
   "version": "3.9.13"
  }
 },
 "nbformat": 4,
 "nbformat_minor": 5
}
