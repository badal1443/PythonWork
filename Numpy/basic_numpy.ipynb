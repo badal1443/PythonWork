{
 "cells": [
  {
   "cell_type": "markdown",
   "id": "f25bbd33-ab2b-4a30-ba98-131ab5cefec5",
   "metadata": {},
   "source": [
    "## Learn Numpy from coursera , https://www.coursera.org/learn/numpy-and-pandas-basics-for-future-data-scientistsabs\n"
   ]
  },
  {
   "cell_type": "code",
   "execution_count": 1,
   "id": "827e9393-312f-4e68-b132-443991f992fa",
   "metadata": {},
   "outputs": [],
   "source": [
    "lst1 = [1,2,3]\n",
    "lst2=[4,5,6]\n",
    "lst3=[7,8,9]\n"
   ]
  },
  {
   "cell_type": "code",
   "execution_count": 2,
   "id": "ca7e73d9-739c-4296-aa23-5f64e1e0b489",
   "metadata": {},
   "outputs": [],
   "source": [
    "import numpy as np"
   ]
  },
  {
   "cell_type": "code",
   "execution_count": 3,
   "id": "486e60d2-9c04-46a2-a40e-480733ba992d",
   "metadata": {},
   "outputs": [],
   "source": [
    "arr = np.array([lst1,lst2,lst3])"
   ]
  },
  {
   "cell_type": "code",
   "execution_count": 4,
   "id": "19b1b7bd-a68a-4992-a2c5-17ebbe2665b6",
   "metadata": {},
   "outputs": [
    {
     "data": {
      "text/plain": [
       "array([[1, 2, 3],\n",
       "       [4, 5, 6],\n",
       "       [7, 8, 9]])"
      ]
     },
     "execution_count": 4,
     "metadata": {},
     "output_type": "execute_result"
    }
   ],
   "source": [
    "arr"
   ]
  },
  {
   "cell_type": "code",
   "execution_count": 5,
   "id": "6b02d7d5-6730-471c-973a-f0faed876e8a",
   "metadata": {},
   "outputs": [
    {
     "data": {
      "text/plain": [
       "array([4, 5, 6])"
      ]
     },
     "execution_count": 5,
     "metadata": {},
     "output_type": "execute_result"
    }
   ],
   "source": [
    "arr[1] # first index row , 2nd row"
   ]
  },
  {
   "cell_type": "code",
   "execution_count": 12,
   "id": "fc96dbdd-6463-4b65-b757-abd8e6b0c71d",
   "metadata": {},
   "outputs": [
    {
     "data": {
      "text/plain": [
       "array([[1, 2, 3],\n",
       "       [4, 5, 6]])"
      ]
     },
     "execution_count": 12,
     "metadata": {},
     "output_type": "execute_result"
    }
   ],
   "source": [
    "arr[0:2,0:3] # first row 0 to 3 index elements. The last index number is not considered."
   ]
  },
  {
   "cell_type": "code",
   "execution_count": 19,
   "id": "96d143dd-61f1-4a7d-a2af-e0d5e92e6d5e",
   "metadata": {},
   "outputs": [
    {
     "data": {
      "text/plain": [
       "array([3])"
      ]
     },
     "execution_count": 19,
     "metadata": {},
     "output_type": "execute_result"
    }
   ],
   "source": [
    "arr[0,2:3]"
   ]
  },
  {
   "cell_type": "code",
   "execution_count": 22,
   "id": "3b95c35f-f07a-494f-b4c5-3082e673cd7b",
   "metadata": {},
   "outputs": [],
   "source": [
    "arr[0,2:3]=3"
   ]
  },
  {
   "cell_type": "code",
   "execution_count": 23,
   "id": "6c4562bc-4240-4289-95d1-8d5432b96e7e",
   "metadata": {},
   "outputs": [
    {
     "data": {
      "text/plain": [
       "array([[1, 2, 3],\n",
       "       [4, 5, 6],\n",
       "       [7, 8, 9]])"
      ]
     },
     "execution_count": 23,
     "metadata": {},
     "output_type": "execute_result"
    }
   ],
   "source": [
    "arr"
   ]
  },
  {
   "cell_type": "markdown",
   "id": "58e7f89f-e46d-4fcb-8800-ee9ac75dc01b",
   "metadata": {},
   "source": [
    "##negative indexing"
   ]
  },
  {
   "cell_type": "code",
   "execution_count": 24,
   "id": "68b8b369-424a-4cd2-a67e-e68616552409",
   "metadata": {},
   "outputs": [
    {
     "data": {
      "text/plain": [
       "array([7, 8, 9])"
      ]
     },
     "execution_count": 24,
     "metadata": {},
     "output_type": "execute_result"
    }
   ],
   "source": [
    "arr[-1]"
   ]
  },
  {
   "cell_type": "code",
   "execution_count": 25,
   "id": "e53ba29e-d108-46c3-a0f6-0a713732ae89",
   "metadata": {},
   "outputs": [
    {
     "data": {
      "text/plain": [
       "array([4, 5, 6])"
      ]
     },
     "execution_count": 25,
     "metadata": {},
     "output_type": "execute_result"
    }
   ],
   "source": [
    "arr[-2]"
   ]
  },
  {
   "cell_type": "code",
   "execution_count": 31,
   "id": "dda72bb4-748c-46b9-994f-391ab53e4a9d",
   "metadata": {},
   "outputs": [
    {
     "data": {
      "text/plain": [
       "7"
      ]
     },
     "execution_count": 31,
     "metadata": {},
     "output_type": "execute_result"
    }
   ],
   "source": [
    "arr[2,-3]"
   ]
  },
  {
   "cell_type": "markdown",
   "id": "707ada38-339e-4d21-ba90-a86d82f529cc",
   "metadata": {},
   "source": [
    "## Understand copy concept"
   ]
  },
  {
   "cell_type": "code",
   "execution_count": 32,
   "id": "cc666bfb-54f4-4fc7-9da8-a626a1105c8c",
   "metadata": {},
   "outputs": [
    {
     "data": {
      "text/plain": [
       "array([3, 6, 9])"
      ]
     },
     "execution_count": 32,
     "metadata": {},
     "output_type": "execute_result"
    }
   ],
   "source": [
    "my_slice = arr[:,-1]\n",
    "my_slice"
   ]
  },
  {
   "cell_type": "code",
   "execution_count": 33,
   "id": "0182f8ae-a437-45a0-9179-6c16b975e4b1",
   "metadata": {},
   "outputs": [
    {
     "data": {
      "text/plain": [
       "array([1000,    6,    9])"
      ]
     },
     "execution_count": 33,
     "metadata": {},
     "output_type": "execute_result"
    }
   ],
   "source": [
    "#if try and replace a value of any element in my_slice, it will change the value in actual array\n",
    "my_slice[0]=1000\n",
    "my_slice"
   ]
  },
  {
   "cell_type": "code",
   "execution_count": 34,
   "id": "cfe3e5fc-c1c8-4c88-9a56-17adf277ea9b",
   "metadata": {},
   "outputs": [
    {
     "data": {
      "text/plain": [
       "array([[   1,    2, 1000],\n",
       "       [   4,    5,    6],\n",
       "       [   7,    8,    9]])"
      ]
     },
     "execution_count": 34,
     "metadata": {},
     "output_type": "execute_result"
    }
   ],
   "source": [
    "arr"
   ]
  },
  {
   "cell_type": "code",
   "execution_count": 35,
   "id": "cd2b0c4a-7184-4bad-bec8-6de0f9f48487",
   "metadata": {},
   "outputs": [
    {
     "data": {
      "text/plain": [
       "array([[   1,    2, 1000],\n",
       "       [   4,    5,    6],\n",
       "       [   7,    8,    9]])"
      ]
     },
     "execution_count": 35,
     "metadata": {},
     "output_type": "execute_result"
    }
   ],
   "source": [
    "#use .base to see actual array my-slice is part of. it will show the original array\n",
    "my_slice.base"
   ]
  },
  {
   "cell_type": "code",
   "execution_count": 36,
   "id": "5eea48e3-572a-467f-a932-1eb674645e81",
   "metadata": {},
   "outputs": [
    {
     "data": {
      "text/plain": [
       "array([3, 6, 9])"
      ]
     },
     "execution_count": 36,
     "metadata": {},
     "output_type": "execute_result"
    }
   ],
   "source": [
    "my_slice[0]=3\n",
    "my_slice"
   ]
  },
  {
   "cell_type": "code",
   "execution_count": 38,
   "id": "d2db2ba6-f255-45d2-bfbf-05c7c5a08e67",
   "metadata": {},
   "outputs": [
    {
     "data": {
      "text/plain": [
       "array([[1, 2, 3],\n",
       "       [4, 5, 6],\n",
       "       [7, 8, 9]])"
      ]
     },
     "execution_count": 38,
     "metadata": {},
     "output_type": "execute_result"
    }
   ],
   "source": [
    "my_slice.base"
   ]
  },
  {
   "cell_type": "code",
   "execution_count": 39,
   "id": "688cb577-8ebe-4731-8bb4-056a68faf9d4",
   "metadata": {},
   "outputs": [],
   "source": [
    "my_slice=arr[:,-1].copy()"
   ]
  },
  {
   "cell_type": "code",
   "execution_count": 42,
   "id": "919cc82c-ac8e-4f6b-80dd-6042aa59e9d1",
   "metadata": {},
   "outputs": [
    {
     "data": {
      "text/plain": [
       "array([999,   6,   9])"
      ]
     },
     "execution_count": 42,
     "metadata": {},
     "output_type": "execute_result"
    }
   ],
   "source": [
    "my_slice[0]=999\n",
    "my_slice"
   ]
  },
  {
   "cell_type": "code",
   "execution_count": 43,
   "id": "dabff654-fb22-4765-8a1d-363d59dd6f5d",
   "metadata": {},
   "outputs": [
    {
     "data": {
      "text/plain": [
       "array([[1, 2, 3],\n",
       "       [4, 5, 6],\n",
       "       [7, 8, 9]])"
      ]
     },
     "execution_count": 43,
     "metadata": {},
     "output_type": "execute_result"
    }
   ],
   "source": [
    "arr"
   ]
  },
  {
   "cell_type": "markdown",
   "id": "fb3bb6b0-dcc0-4d4e-83c2-77d3447f7cf2",
   "metadata": {},
   "source": [
    "## Indexing with logical operators "
   ]
  },
  {
   "cell_type": "code",
   "execution_count": 44,
   "id": "7926c30c-be99-4be2-ab82-17f2ac5da4f7",
   "metadata": {},
   "outputs": [
    {
     "data": {
      "text/plain": [
       "array([[False, False, False],\n",
       "       [False, False,  True],\n",
       "       [ True,  True,  True]])"
      ]
     },
     "execution_count": 44,
     "metadata": {},
     "output_type": "execute_result"
    }
   ],
   "source": [
    "arr>5"
   ]
  },
  {
   "cell_type": "code",
   "execution_count": 45,
   "id": "efac928c-f1cf-4c9b-8b1c-836a1cd1f74b",
   "metadata": {},
   "outputs": [
    {
     "data": {
      "text/plain": [
       "array([6, 7, 8, 9])"
      ]
     },
     "execution_count": 45,
     "metadata": {},
     "output_type": "execute_result"
    }
   ],
   "source": [
    "arr[arr>5]"
   ]
  },
  {
   "cell_type": "code",
   "execution_count": 46,
   "id": "412f3d3c-b58d-492f-bb4b-8f8426c005c9",
   "metadata": {},
   "outputs": [
    {
     "data": {
      "text/plain": [
       "array([[   1,    2,    3],\n",
       "       [   4,    5, 1000],\n",
       "       [1000, 1000, 1000]])"
      ]
     },
     "execution_count": 46,
     "metadata": {},
     "output_type": "execute_result"
    }
   ],
   "source": [
    "##Winsorizing\n",
    "arr[arr>5]=1000\n",
    "arr"
   ]
  },
  {
   "cell_type": "code",
   "execution_count": 60,
   "id": "27d35774-2545-4155-a415-a9499d787c00",
   "metadata": {},
   "outputs": [
    {
     "data": {
      "text/plain": [
       "array([[False, False,  True],\n",
       "       [False,  True, False],\n",
       "       [False, False, False]])"
      ]
     },
     "execution_count": 60,
     "metadata": {},
     "output_type": "execute_result"
    }
   ],
   "source": [
    "(arr %2 > 0) & (arr > 2)"
   ]
  },
  {
   "cell_type": "code",
   "execution_count": 61,
   "id": "32d3b160-a37a-41b0-b1e0-609fde9c219b",
   "metadata": {},
   "outputs": [
    {
     "data": {
      "text/plain": [
       "array([3, 5])"
      ]
     },
     "execution_count": 61,
     "metadata": {},
     "output_type": "execute_result"
    }
   ],
   "source": [
    "##Complex composite conditions\n",
    "condition = ((arr %2 > 0) & (arr > 2))\n",
    "arr[condition]"
   ]
  },
  {
   "cell_type": "code",
   "execution_count": null,
   "id": "e4058e58-60db-4667-9ef6-ffec35abe365",
   "metadata": {},
   "outputs": [],
   "source": [
    "## The winsorizing creates a copy of array, the .base attribute won't return anything.\n"
   ]
  }
 ],
 "metadata": {
  "kernelspec": {
   "display_name": "Python 3 (ipykernel)",
   "language": "python",
   "name": "python3"
  },
  "language_info": {
   "codemirror_mode": {
    "name": "ipython",
    "version": 3
   },
   "file_extension": ".py",
   "mimetype": "text/x-python",
   "name": "python",
   "nbconvert_exporter": "python",
   "pygments_lexer": "ipython3",
   "version": "3.9.13"
  }
 },
 "nbformat": 4,
 "nbformat_minor": 5
}
