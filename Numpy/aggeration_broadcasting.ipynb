{
 "cells": [
  {
   "cell_type": "markdown",
   "id": "8aac8ad0-d238-4c8e-8468-ac8f013a8db8",
   "metadata": {},
   "source": [
    "## aggregating functions"
   ]
  },
  {
   "cell_type": "code",
   "execution_count": 1,
   "id": "256be2dc-0dc1-4145-a58f-fe78c745f385",
   "metadata": {},
   "outputs": [],
   "source": [
    "import numpy as np"
   ]
  },
  {
   "cell_type": "code",
   "execution_count": 2,
   "id": "9b8f7566-3598-4adf-8b53-5c1b60afa49f",
   "metadata": {},
   "outputs": [],
   "source": [
    "vector = [1,2,3,4]\n"
   ]
  },
  {
   "cell_type": "code",
   "execution_count": 3,
   "id": "2408d5a4-e815-4737-83ce-1e9df96a67c5",
   "metadata": {},
   "outputs": [
    {
     "data": {
      "text/plain": [
       "1"
      ]
     },
     "execution_count": 3,
     "metadata": {},
     "output_type": "execute_result"
    }
   ],
   "source": [
    "np.min(vector)"
   ]
  },
  {
   "cell_type": "code",
   "execution_count": 4,
   "id": "2d331d64-ab5d-4452-8e17-68d4a1820cd3",
   "metadata": {},
   "outputs": [
    {
     "data": {
      "text/plain": [
       "4"
      ]
     },
     "execution_count": 4,
     "metadata": {},
     "output_type": "execute_result"
    }
   ],
   "source": [
    "np.max(vector)"
   ]
  },
  {
   "cell_type": "code",
   "execution_count": 5,
   "id": "ffb8139e-94ec-43ad-9b93-0b90d880771a",
   "metadata": {},
   "outputs": [
    {
     "data": {
      "text/plain": [
       "2.5"
      ]
     },
     "execution_count": 5,
     "metadata": {},
     "output_type": "execute_result"
    }
   ],
   "source": [
    "np.mean(vector)"
   ]
  },
  {
   "cell_type": "code",
   "execution_count": 6,
   "id": "d1a96d22-95e3-4aa2-aec2-eb44cc5653d2",
   "metadata": {},
   "outputs": [
    {
     "data": {
      "text/plain": [
       "2.5"
      ]
     },
     "execution_count": 6,
     "metadata": {},
     "output_type": "execute_result"
    }
   ],
   "source": [
    "np.median(vector)"
   ]
  },
  {
   "cell_type": "code",
   "execution_count": 7,
   "id": "4afbb45e-3420-43c6-962e-37d4cf3e78ed",
   "metadata": {},
   "outputs": [
    {
     "data": {
      "text/plain": [
       "[1, 2, 3, 4]"
      ]
     },
     "execution_count": 7,
     "metadata": {},
     "output_type": "execute_result"
    }
   ],
   "source": [
    "vector"
   ]
  },
  {
   "cell_type": "markdown",
   "id": "6863f65b-4804-400a-9c2c-e2012ede4c91",
   "metadata": {},
   "source": [
    "## matrices"
   ]
  },
  {
   "cell_type": "code",
   "execution_count": 10,
   "id": "b80579a6-7b8a-44a0-b013-d07acbd7389f",
   "metadata": {},
   "outputs": [],
   "source": [
    "matrix = np.array([[1,2,3,4],[5,6,7,8]])"
   ]
  },
  {
   "cell_type": "code",
   "execution_count": 12,
   "id": "fad045d4-e8b3-4bdc-810d-52c390f72104",
   "metadata": {},
   "outputs": [
    {
     "data": {
      "text/plain": [
       "array([2.5, 6.5])"
      ]
     },
     "execution_count": 12,
     "metadata": {},
     "output_type": "execute_result"
    }
   ],
   "source": [
    "matrix.mean(axis=0)"
   ]
  },
  {
   "cell_type": "code",
   "execution_count": 13,
   "id": "a8a162c2-4b2d-4d8b-926f-e3d9ac8319db",
   "metadata": {},
   "outputs": [
    {
     "data": {
      "text/plain": [
       "array([2.5, 6.5])"
      ]
     },
     "execution_count": 13,
     "metadata": {},
     "output_type": "execute_result"
    }
   ],
   "source": [
    "matrix.mean(axis=1)"
   ]
  },
  {
   "cell_type": "markdown",
   "id": "1912fbaf-a604-456c-8065-e931d6d992e6",
   "metadata": {},
   "source": [
    "# broadcasting"
   ]
  },
  {
   "cell_type": "code",
   "execution_count": 14,
   "id": "1828ea67-eb0a-45a0-8701-d0cc4b93eb62",
   "metadata": {},
   "outputs": [],
   "source": [
    "arr_2= np.full((5,1),10)"
   ]
  },
  {
   "cell_type": "code",
   "execution_count": 15,
   "id": "4250139a-0651-408a-bb0f-16e346220109",
   "metadata": {},
   "outputs": [
    {
     "data": {
      "text/plain": [
       "array([[10],\n",
       "       [10],\n",
       "       [10],\n",
       "       [10],\n",
       "       [10]])"
      ]
     },
     "execution_count": 15,
     "metadata": {},
     "output_type": "execute_result"
    }
   ],
   "source": [
    "arr_2"
   ]
  },
  {
   "cell_type": "code",
   "execution_count": 18,
   "id": "b2133666-c758-4418-bc95-b00c1d8a81da",
   "metadata": {},
   "outputs": [
    {
     "data": {
      "text/plain": [
       "2"
      ]
     },
     "execution_count": 18,
     "metadata": {},
     "output_type": "execute_result"
    }
   ],
   "source": [
    "arr_2.ndim"
   ]
  },
  {
   "cell_type": "code",
   "execution_count": 20,
   "id": "a6f1496c-5ae9-4946-adc8-25b3c0390976",
   "metadata": {},
   "outputs": [
    {
     "data": {
      "text/plain": [
       "array([10, 10, 10, 10, 10])"
      ]
     },
     "execution_count": 20,
     "metadata": {},
     "output_type": "execute_result"
    }
   ],
   "source": [
    "arr_2 = np.full((5),10)\n",
    "arr_2"
   ]
  },
  {
   "cell_type": "code",
   "execution_count": 21,
   "id": "63fc414c-1aa2-4abd-aaf1-b3acd2016a3d",
   "metadata": {},
   "outputs": [
    {
     "data": {
      "text/plain": [
       "array([10, 10, 10, 10, 10])"
      ]
     },
     "execution_count": 21,
     "metadata": {},
     "output_type": "execute_result"
    }
   ],
   "source": [
    "arr_2 = np.full(5,10)\n",
    "arr_2"
   ]
  },
  {
   "cell_type": "code",
   "execution_count": 22,
   "id": "8558537d-874e-4ee1-82a8-65e37461df0e",
   "metadata": {},
   "outputs": [
    {
     "data": {
      "text/plain": [
       "(5,)"
      ]
     },
     "execution_count": 22,
     "metadata": {},
     "output_type": "execute_result"
    }
   ],
   "source": [
    "arr_2.shape"
   ]
  },
  {
   "cell_type": "code",
   "execution_count": 23,
   "id": "139a67ce-815a-4c02-a1dc-a03c2237ab3b",
   "metadata": {},
   "outputs": [
    {
     "data": {
      "text/plain": [
       "()"
      ]
     },
     "execution_count": 23,
     "metadata": {},
     "output_type": "execute_result"
    }
   ],
   "source": [
    "np.shape(10)"
   ]
  },
  {
   "cell_type": "code",
   "execution_count": 26,
   "id": "ab296a4e-e765-47b8-86c8-80cd278f4c20",
   "metadata": {},
   "outputs": [
    {
     "data": {
      "text/plain": [
       "array([15, 15, 15, 15, 15])"
      ]
     },
     "execution_count": 26,
     "metadata": {},
     "output_type": "execute_result"
    }
   ],
   "source": [
    "### Understanding how broadcasting works, if needed to add a single value to a vector or matrix, use scalar value like 10.\n",
    "arr_3=arr_2 + 5\n",
    "arr_3"
   ]
  },
  {
   "cell_type": "code",
   "execution_count": 27,
   "id": "5882dc1d-3b20-42ee-8de0-499a823b3fc7",
   "metadata": {},
   "outputs": [
    {
     "data": {
      "text/plain": [
       "array([1000, 1000, 1000, 1000, 1000])"
      ]
     },
     "execution_count": 27,
     "metadata": {},
     "output_type": "execute_result"
    }
   ],
   "source": [
    "arr_4 = arr_2 * 100\n",
    "arr_4"
   ]
  },
  {
   "cell_type": "code",
   "execution_count": 28,
   "id": "48292d98-2263-4f82-8890-f1c63030b006",
   "metadata": {},
   "outputs": [
    {
     "data": {
      "text/plain": [
       "array([[50],\n",
       "       [50],\n",
       "       [50],\n",
       "       [50],\n",
       "       [50]])"
      ]
     },
     "execution_count": 28,
     "metadata": {},
     "output_type": "execute_result"
    }
   ],
   "source": [
    "#matrix example\n",
    "arr_5 = np.full((5,1),10)\n",
    "arr_5 = arr_5 *5\n",
    "arr_5"
   ]
  },
  {
   "cell_type": "code",
   "execution_count": 30,
   "id": "41c511c3-c765-45d0-b831-16b17b3fa176",
   "metadata": {},
   "outputs": [],
   "source": [
    "# how to broadcast array to another array\n",
    "arr_6 = np.array([1,2,3,4,5])\n",
    "arr_7 = np.array([[11,12,13,14,15],[16,17,18,19,20]])"
   ]
  },
  {
   "cell_type": "code",
   "execution_count": 34,
   "id": "94994bf8-2eb5-4ed8-a3a0-7e91c2884ae1",
   "metadata": {},
   "outputs": [
    {
     "data": {
      "text/plain": [
       "array([[12, 14, 16, 18, 20],\n",
       "       [17, 19, 21, 23, 25]])"
      ]
     },
     "execution_count": 34,
     "metadata": {},
     "output_type": "execute_result"
    }
   ],
   "source": [
    "arr_8= arr_7 + arr_6\n",
    "arr_8"
   ]
  },
  {
   "cell_type": "code",
   "execution_count": 32,
   "id": "f8c2fb52-83b4-4a88-9e71-8566cb6c13dc",
   "metadata": {},
   "outputs": [
    {
     "data": {
      "text/plain": [
       "array([[ 11,  24,  39,  56,  75],\n",
       "       [ 16,  34,  54,  76, 100]])"
      ]
     },
     "execution_count": 32,
     "metadata": {},
     "output_type": "execute_result"
    }
   ],
   "source": [
    "arr_9 = arr_6 * arr_7\n",
    "arr_9"
   ]
  },
  {
   "cell_type": "code",
   "execution_count": 33,
   "id": "e174a6ab-f6ba-434e-882f-1022012c2d48",
   "metadata": {},
   "outputs": [
    {
     "data": {
      "text/plain": [
       "array([[11.        ,  6.        ,  4.33333333,  3.5       ,  3.        ],\n",
       "       [16.        ,  8.5       ,  6.        ,  4.75      ,  4.        ]])"
      ]
     },
     "execution_count": 33,
     "metadata": {},
     "output_type": "execute_result"
    }
   ],
   "source": [
    "arr_10 = arr_7 / arr_6\n",
    "arr_10"
   ]
  },
  {
   "cell_type": "markdown",
   "id": "c08868c2-c60f-495e-b046-dcb9ebafb2c1",
   "metadata": {},
   "source": [
    "# if same shape the stretching can be broadcasted to 2 arrays"
   ]
  },
  {
   "cell_type": "code",
   "execution_count": 37,
   "id": "1efd9dfc-ad53-4f95-b5f3-4fa74d18d695",
   "metadata": {},
   "outputs": [
    {
     "data": {
      "text/plain": [
       "array([[1],\n",
       "       [2],\n",
       "       [3],\n",
       "       [4]])"
      ]
     },
     "execution_count": 37,
     "metadata": {},
     "output_type": "execute_result"
    }
   ],
   "source": [
    "arr_11 = np.array([1,2,3,4])\n",
    "# add an extra axis to this vector to make it 4X1\n",
    "arr_12= arr_11.copy()\n",
    "arr_11 = arr_11[:,np.newaxis]\n",
    "arr_11"
   ]
  },
  {
   "cell_type": "code",
   "execution_count": 38,
   "id": "d42caeef-4699-45cb-8a3b-02fcf98d47c3",
   "metadata": {},
   "outputs": [
    {
     "data": {
      "text/plain": [
       "array([1, 2, 3, 4])"
      ]
     },
     "execution_count": 38,
     "metadata": {},
     "output_type": "execute_result"
    }
   ],
   "source": [
    "\n",
    "arr_12"
   ]
  },
  {
   "cell_type": "code",
   "execution_count": 39,
   "id": "bfc82c54-776a-4560-a616-590386807d18",
   "metadata": {},
   "outputs": [
    {
     "data": {
      "text/plain": [
       "array([[2, 3, 4, 5],\n",
       "       [3, 4, 5, 6],\n",
       "       [4, 5, 6, 7],\n",
       "       [5, 6, 7, 8]])"
      ]
     },
     "execution_count": 39,
     "metadata": {},
     "output_type": "execute_result"
    }
   ],
   "source": [
    "arr_13 = arr_11 +arr_12\n",
    "arr_13"
   ]
  },
  {
   "cell_type": "markdown",
   "id": "167cc5b6-a492-4a4f-bc8a-c6ff63bc90ec",
   "metadata": {},
   "source": [
    "# Broadcasting is impossible if shapes don't match"
   ]
  },
  {
   "cell_type": "code",
   "execution_count": 41,
   "id": "f4773b6b-75eb-455d-b3f8-eb62b8958c6a",
   "metadata": {},
   "outputs": [],
   "source": [
    "# example \n",
    "a = np.array([1,2,3,4])\n",
    "b= np.array([[1,2,3],[4,5,6],[7,8,9]])"
   ]
  },
  {
   "cell_type": "code",
   "execution_count": 42,
   "id": "c6171400-f873-4bf2-89d7-b3ccb5bcae26",
   "metadata": {},
   "outputs": [
    {
     "data": {
      "text/plain": [
       "(array([1, 2, 3, 4]),\n",
       " array([[1, 2, 3],\n",
       "        [4, 5, 6],\n",
       "        [7, 8, 9]]))"
      ]
     },
     "execution_count": 42,
     "metadata": {},
     "output_type": "execute_result"
    }
   ],
   "source": [
    "a,b"
   ]
  },
  {
   "cell_type": "markdown",
   "id": "814d3acc-e1de-4d63-b3eb-f127eb3962a8",
   "metadata": {},
   "source": [
    "# both arrays above has diff shape as array a has 4 elements, when stretched will make 4 columns, b has only 3 columns.\n",
    "# ValueError: operands could not be broadcast together with shapes (4,) (3,3) "
   ]
  },
  {
   "cell_type": "code",
   "execution_count": 43,
   "id": "4c135514-38fb-4dfa-b4d5-2033e7a97e63",
   "metadata": {},
   "outputs": [
    {
     "ename": "ValueError",
     "evalue": "operands could not be broadcast together with shapes (4,) (3,3) ",
     "output_type": "error",
     "traceback": [
      "\u001b[0;31m---------------------------------------------------------------------------\u001b[0m",
      "\u001b[0;31mValueError\u001b[0m                                Traceback (most recent call last)",
      "Cell \u001b[0;32mIn[43], line 1\u001b[0m\n\u001b[0;32m----> 1\u001b[0m c\u001b[38;5;241m=\u001b[39m \u001b[43ma\u001b[49m\u001b[38;5;241;43m+\u001b[39;49m\u001b[43mb\u001b[49m\n",
      "\u001b[0;31mValueError\u001b[0m: operands could not be broadcast together with shapes (4,) (3,3) "
     ]
    }
   ],
   "source": [
    "c= a+b"
   ]
  },
  {
   "cell_type": "markdown",
   "id": "9d25b1c9-5cc1-4b46-9429-ffecf907fa75",
   "metadata": {},
   "source": [
    "# docs for refernce\n",
    "https://numpy.org/doc/stable/user/basics.broadcasting.htmlv"
   ]
  },
  {
   "cell_type": "code",
   "execution_count": null,
   "id": "eb58cd9c-ec55-420f-9132-07139d853234",
   "metadata": {},
   "outputs": [],
   "source": []
  },
  {
   "cell_type": "code",
   "execution_count": null,
   "id": "dfeb841f-25f3-45b2-865a-619c7581d712",
   "metadata": {},
   "outputs": [],
   "source": []
  }
 ],
 "metadata": {
  "kernelspec": {
   "display_name": "Python 3 (ipykernel)",
   "language": "python",
   "name": "python3"
  },
  "language_info": {
   "codemirror_mode": {
    "name": "ipython",
    "version": 3
   },
   "file_extension": ".py",
   "mimetype": "text/x-python",
   "name": "python",
   "nbconvert_exporter": "python",
   "pygments_lexer": "ipython3",
   "version": "3.9.13"
  }
 },
 "nbformat": 4,
 "nbformat_minor": 5
}
