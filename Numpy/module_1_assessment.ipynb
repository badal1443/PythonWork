{
 "cells": [
  {
   "cell_type": "markdown",
   "metadata": {
    "deletable": false,
    "editable": false,
    "nbgrader": {
     "cell_type": "markdown",
     "checksum": "98299bdf109f0f6de16d97dc28e61b58",
     "grade": false,
     "grade_id": "cell-3d09e19cf5ca961e",
     "locked": true,
     "schema_version": 3,
     "solution": false,
     "task": false
    },
    "tags": []
   },
   "source": [
    "# Module 1 Challenges"
   ]
  },
  {
   "cell_type": "code",
   "execution_count": 2,
   "metadata": {
    "deletable": false,
    "editable": false,
    "executionInfo": {
     "elapsed": 4,
     "status": "ok",
     "timestamp": 1715277885955,
     "user": {
      "displayName": "Paul Resnick",
      "userId": "14473115728561853267"
     },
     "user_tz": 240
    },
    "id": "hNFFvAishzqK",
    "nbgrader": {
     "cell_type": "code",
     "checksum": "fd867f908269802835d158c74b79d106",
     "grade": false,
     "grade_id": "cell-1de1161864114343",
     "locked": true,
     "schema_version": 3,
     "solution": false,
     "task": false
    },
    "tags": []
   },
   "outputs": [],
   "source": [
    "import numpy as np"
   ]
  },
  {
   "cell_type": "markdown",
   "metadata": {
    "deletable": false,
    "editable": false,
    "id": "PUHeRpYehzqN",
    "nbgrader": {
     "cell_type": "markdown",
     "checksum": "3225db9ee48a671653fb570d849e78e2",
     "grade": false,
     "grade_id": "cell-99e39eca738d3198",
     "locked": true,
     "schema_version": 3,
     "solution": false,
     "task": false
    }
   },
   "source": [
    "## Challenge 01\n",
    "### 1.1 Create a NumPy array [1 point]\n",
    "\n",
    "* Create a 1-dimensional NumPy array with values `1`, `2`, `3`, and `4`.\n",
    "* Save it the variable `my_array`.\n",
    "* Check that it has the correct value."
   ]
  },
  {
   "cell_type": "code",
   "execution_count": 2,
   "metadata": {
    "deletable": false,
    "executionInfo": {
     "elapsed": 266,
     "status": "ok",
     "timestamp": 1715277892188,
     "user": {
      "displayName": "Paul Resnick",
      "userId": "14473115728561853267"
     },
     "user_tz": 240
    },
    "id": "z7yZjPdshzqO",
    "nbgrader": {
     "cell_type": "code",
     "checksum": "0a2508296cbe9ca71542b2be4fae1ddb",
     "grade": false,
     "grade_id": "cell-f01d70ab03be0412",
     "locked": false,
     "schema_version": 3,
     "solution": true,
     "task": false
    },
    "tags": []
   },
   "outputs": [
    {
     "data": {
      "text/plain": [
       "array([1, 2, 3, 4])"
      ]
     },
     "execution_count": 2,
     "metadata": {},
     "output_type": "execute_result"
    }
   ],
   "source": [
    "my_array = None\n",
    "\n",
    "# YOUR CODE HERE\n",
    "try:\n",
    "    my_array= np.array([1,2,3,4])\n",
    "except:\n",
    "    raise NotImplementedError()\n",
    "my_array"
   ]
  },
  {
   "cell_type": "code",
   "execution_count": 3,
   "metadata": {
    "deletable": false,
    "editable": false,
    "executionInfo": {
     "elapsed": 312,
     "status": "ok",
     "timestamp": 1715277893830,
     "user": {
      "displayName": "Paul Resnick",
      "userId": "14473115728561853267"
     },
     "user_tz": 240
    },
    "id": "8nsTFXkGhzqO",
    "nbgrader": {
     "cell_type": "code",
     "checksum": "7e89535a8a75766f6e30736c936b3b2b",
     "grade": true,
     "grade_id": "cell-967ce2258c8af3e9",
     "locked": true,
     "points": 1,
     "schema_version": 3,
     "solution": false,
     "task": false
    },
    "tags": []
   },
   "outputs": [],
   "source": [
    "# Hidden tests are within this cell"
   ]
  },
  {
   "cell_type": "markdown",
   "metadata": {
    "deletable": false,
    "editable": false,
    "id": "xQI_VawJhzqP",
    "nbgrader": {
     "cell_type": "markdown",
     "checksum": "29159ebe57e9aefdfffaa963e7e4878b",
     "grade": false,
     "grade_id": "cell-3e3d1efb1ee0b36a",
     "locked": true,
     "schema_version": 3,
     "solution": false,
     "task": false
    }
   },
   "source": [
    "## Challenge 02\n",
    "### 2.1 Create array with values as rows [1 point]\n",
    "\n",
    "Create a **3x4** NumPy array with the values from ``list1``, ``list2``, and ``list3`` as the rows.\n",
    "1. Save it to the variable ``task_two_array``.\n",
    "2. Pick out the value at row `2`, column `3` and save it to the variable ``task_two_value``.\n",
    "3. Pick out the third row and save it to the variable ``task_two_row``."
   ]
  },
  {
   "cell_type": "code",
   "execution_count": 4,
   "metadata": {
    "deletable": false,
    "editable": false,
    "executionInfo": {
     "elapsed": 1,
     "status": "ok",
     "timestamp": 1715277895849,
     "user": {
      "displayName": "Paul Resnick",
      "userId": "14473115728561853267"
     },
     "user_tz": 240
    },
    "id": "LsIrGIvihzqP",
    "nbgrader": {
     "cell_type": "code",
     "checksum": "32a0487cc324bb1d01735f05c70dac45",
     "grade": false,
     "grade_id": "cell-0988e132181d4340",
     "locked": true,
     "schema_version": 3,
     "solution": false,
     "task": false
    },
    "tags": []
   },
   "outputs": [],
   "source": [
    "list1 = [1, 2, 3, 4]\n",
    "list2 = [5, 6, 7, 8]\n",
    "list3 = [9, 10, 11, 12]"
   ]
  },
  {
   "cell_type": "code",
   "execution_count": 5,
   "metadata": {
    "colab": {
     "base_uri": "https://localhost:8080/"
    },
    "deletable": false,
    "executionInfo": {
     "elapsed": 4,
     "status": "ok",
     "timestamp": 1715277896478,
     "user": {
      "displayName": "Paul Resnick",
      "userId": "14473115728561853267"
     },
     "user_tz": 240
    },
    "id": "TaJ0UBIphzqP",
    "nbgrader": {
     "cell_type": "code",
     "checksum": "0c26822df84328920c45f87e1cd8decd",
     "grade": false,
     "grade_id": "cell-10a7434912338a82",
     "locked": false,
     "schema_version": 3,
     "solution": true,
     "task": false
    },
    "outputId": "e2413f38-3e64-4cdc-d323-e22039bb3f28",
    "tags": []
   },
   "outputs": [
    {
     "data": {
      "text/plain": [
       "(np.int64(7),\n",
       " array([[ 1,  2,  3,  4],\n",
       "        [ 5,  6,  7,  8],\n",
       "        [ 9, 10, 11, 12]]),\n",
       " array([ 9, 10, 11, 12]))"
      ]
     },
     "execution_count": 5,
     "metadata": {},
     "output_type": "execute_result"
    }
   ],
   "source": [
    "task_two_array = None\n",
    "task_two_value = None\n",
    "task_two_row = None\n",
    "\n",
    "# YOUR CODE HERE\n",
    "try:\n",
    "    task_two_array = np.array([list1,list2,list3])\n",
    "    task_two_value = task_two_array[1,2]\n",
    "    task_two_row = task_two_array[2]\n",
    "except:\n",
    "    raise NotImplementedError()\n",
    "task_two_value, task_two_array, task_two_row"
   ]
  },
  {
   "cell_type": "code",
   "execution_count": 6,
   "metadata": {
    "deletable": false,
    "editable": false,
    "id": "LbOF_dWVhzqQ",
    "nbgrader": {
     "cell_type": "code",
     "checksum": "803ad09cc0fc81d722c403c7511b19d6",
     "grade": true,
     "grade_id": "cell-1d4f801e2ddafffc",
     "locked": true,
     "points": 1,
     "schema_version": 3,
     "solution": false,
     "task": false
    },
    "tags": []
   },
   "outputs": [],
   "source": [
    "# Hidden tests are within this cell"
   ]
  },
  {
   "cell_type": "markdown",
   "metadata": {
    "deletable": false,
    "editable": false,
    "nbgrader": {
     "cell_type": "markdown",
     "checksum": "50683e84c5d71f1c9aa2b22110b5deb0",
     "grade": false,
     "grade_id": "cell-3c69f896cc9ecadc",
     "locked": true,
     "schema_version": 3,
     "solution": false,
     "task": false
    }
   },
   "source": [
    "### 2.2 Create array with values as columns [1 point]\n",
    "\n",
    "Create a **`4`x`3`** NumPy array with the values from `list1`, `list2`, and `list3` as the columns.\n",
    "1. Save it to the variable `task_three_array`.\n",
    "2. Pick out the value at row `2`, column `3` and save it to the variable `task_three_value`.\n",
    "3. Pick out the third row and save it to the variable `task_three_row`."
   ]
  },
  {
   "cell_type": "code",
   "execution_count": 7,
   "metadata": {
    "deletable": false,
    "nbgrader": {
     "cell_type": "code",
     "checksum": "cdb51a695069e8b71886dee4151f8c58",
     "grade": false,
     "grade_id": "cell-384e6e9949e3dd42",
     "locked": false,
     "schema_version": 3,
     "solution": true,
     "task": false
    },
    "tags": []
   },
   "outputs": [
    {
     "data": {
      "text/plain": [
       "(np.int64(10),\n",
       " array([[ 1,  5,  9],\n",
       "        [ 2,  6, 10],\n",
       "        [ 3,  7, 11],\n",
       "        [ 4,  8, 12]]),\n",
       " array([ 3,  7, 11]))"
      ]
     },
     "execution_count": 7,
     "metadata": {},
     "output_type": "execute_result"
    }
   ],
   "source": [
    "task_three_array = None\n",
    "task_three_value = None\n",
    "task_three_row = None\n",
    "\n",
    "# YOUR CODE HERE\n",
    "task_three_array = np.array([list1,list2,list3]).T\n",
    "task_three_value = task_three_array[1,2]\n",
    "task_three_row = task_three_array[2]\n",
    "#raise NotImplementedError()\n",
    "task_three_value, task_three_array,task_three_row"
   ]
  },
  {
   "cell_type": "code",
   "execution_count": 8,
   "metadata": {
    "deletable": false,
    "editable": false,
    "id": "AV9O9QWnhzqQ",
    "nbgrader": {
     "cell_type": "code",
     "checksum": "9bf859b50b035fa18d94bbba2d2206e4",
     "grade": true,
     "grade_id": "cell-f14e816c51535d45",
     "locked": true,
     "points": 1,
     "schema_version": 3,
     "solution": false,
     "task": false
    },
    "tags": []
   },
   "outputs": [],
   "source": [
    "# Hidden tests are within this cell"
   ]
  },
  {
   "cell_type": "markdown",
   "metadata": {
    "deletable": false,
    "editable": false,
    "nbgrader": {
     "cell_type": "markdown",
     "checksum": "bf4176c8dacc8e946c18cc88d1c1021f",
     "grade": false,
     "grade_id": "cell-5a3b97a04fb294d7",
     "locked": true,
     "schema_version": 3,
     "solution": false,
     "task": false
    }
   },
   "source": [
    "### 2.3 Create column array with specific value [1 point]\n",
    "\n",
    "Create a **`3`x`5`** NumPy array with all values set to `2`. Save it to the variable `task_four_array`."
   ]
  },
  {
   "cell_type": "code",
   "execution_count": 9,
   "metadata": {
    "deletable": false,
    "id": "yNkbxdAnhzqQ",
    "nbgrader": {
     "cell_type": "code",
     "checksum": "a22cf38aa7cb61fe2198cd0f8f135186",
     "grade": false,
     "grade_id": "cell-00ad2e79274f1b30",
     "locked": false,
     "schema_version": 3,
     "solution": true,
     "task": false
    },
    "tags": []
   },
   "outputs": [
    {
     "data": {
      "text/plain": [
       "array([[2, 2, 2, 2, 2],\n",
       "       [2, 2, 2, 2, 2],\n",
       "       [2, 2, 2, 2, 2]])"
      ]
     },
     "execution_count": 9,
     "metadata": {},
     "output_type": "execute_result"
    }
   ],
   "source": [
    "shape=(3,5)\n",
    "task_four_array = np.full(shape,2)\n",
    "task_four_array\n",
    "# YOUR CODE HERE\n",
    "#raise NotImplementedError()"
   ]
  },
  {
   "cell_type": "code",
   "execution_count": 10,
   "metadata": {
    "deletable": false,
    "editable": false,
    "id": "tFX-zXRXhzqQ",
    "nbgrader": {
     "cell_type": "code",
     "checksum": "68fb3659ebd4b1e519d61c4a6018cade",
     "grade": true,
     "grade_id": "cell-10fc5711e47dc672",
     "locked": true,
     "points": 1,
     "schema_version": 3,
     "solution": false,
     "task": false
    },
    "tags": []
   },
   "outputs": [],
   "source": [
    "# Hidden tests are within this cell"
   ]
  },
  {
   "cell_type": "markdown",
   "metadata": {
    "deletable": false,
    "editable": false,
    "nbgrader": {
     "cell_type": "markdown",
     "checksum": "ba6c3c1fcbe86a229709bf7f4a3cf414",
     "grade": false,
     "grade_id": "cell-7120f67212c6c114",
     "locked": true,
     "schema_version": 3,
     "solution": false,
     "task": false
    },
    "tags": []
   },
   "source": [
    "### 2.4 Consider array datatypes [1 point]\n",
    "\n",
    "Consider the following NumPy arrays.\n",
    "1. Do the objects `array1` and `array2` have the same datatype? Assign your answer as a `bool` to the\n",
    "   variable `mcq_1`.\n",
    "2. Do the items in `array1` and `array2` have the same type? Assign your answer as a `bool` to the\n",
    "   variable `mcq_2`.\n",
    "3. Is the first element of `array3` an integer? Assign your answer as a `bool` to the variable `mcq_3`."
   ]
  },
  {
   "cell_type": "code",
   "execution_count": 11,
   "metadata": {
    "deletable": false,
    "id": "OYr-DHUdhzqR",
    "nbgrader": {
     "cell_type": "code",
     "checksum": "8b355490968c92c1bb55b46d846f9f32",
     "grade": false,
     "grade_id": "cell-d2146943aa4ffc7e",
     "locked": false,
     "schema_version": 3,
     "solution": true,
     "task": false
    },
    "tags": []
   },
   "outputs": [
    {
     "name": "stdout",
     "output_type": "stream",
     "text": [
      "int64\n",
      "float64\n",
      "True\n",
      "False\n",
      "False\n"
     ]
    }
   ],
   "source": [
    "array1 = np.array([1, 2, 3])\n",
    "array2 = np.array([1.0, 2.0, 3.0])\n",
    "array3 = np.array([1, 2, 3.0])\n",
    "\n",
    "print(array1.dtype)\n",
    "print(array2.dtype)\n",
    "mcq_1 = (type(array1) == type(array2))\n",
    "print(mcq_1)\n",
    "\n",
    "mcq_2= (array1.dtype == array2.dtype)\n",
    "print(mcq_2)\n",
    "\n",
    "mcq_3 = (array3.dtype == 'int')\n",
    "print(mcq_3)\n",
    "\n",
    "# YOUR CODE HERE\n",
    "#raise NotImplementedError()"
   ]
  },
  {
   "cell_type": "code",
   "execution_count": 12,
   "metadata": {
    "deletable": false,
    "editable": false,
    "id": "2MlTHjQThzqR",
    "nbgrader": {
     "cell_type": "code",
     "checksum": "cdad49b3c9f3e1b2be894a037c4350f9",
     "grade": true,
     "grade_id": "cell-b23e25f9907849c0",
     "locked": true,
     "points": 1,
     "schema_version": 3,
     "solution": false,
     "task": false
    },
    "tags": []
   },
   "outputs": [],
   "source": [
    "# Hidden tests are within this cell"
   ]
  },
  {
   "cell_type": "markdown",
   "metadata": {
    "deletable": false,
    "editable": false,
    "nbgrader": {
     "cell_type": "markdown",
     "checksum": "7d8319988a2898d7c8b2248a46920ffe",
     "grade": false,
     "grade_id": "cell-7b2ead7c83cd6a71",
     "locked": true,
     "schema_version": 3,
     "solution": false,
     "task": false
    },
    "tags": []
   },
   "source": [
    "### 2.5 Extract data from an array [1 point]\n",
    "\n",
    "Select the middle `3` rows and the middle `3` columns of `rand_array`. Save them to the variable `middle_array`.\n"
   ]
  },
  {
   "cell_type": "code",
   "execution_count": 13,
   "metadata": {
    "deletable": false,
    "editable": false,
    "nbgrader": {
     "cell_type": "code",
     "checksum": "d53d9e33b9b14fc46abb1e4a496677f0",
     "grade": false,
     "grade_id": "cell-be25641ccfb8c721",
     "locked": true,
     "schema_version": 3,
     "solution": false,
     "task": false
    },
    "tags": []
   },
   "outputs": [],
   "source": [
    "np.random.seed(4242)\n",
    "rand_array = np.random.randint(1, 100, size=(5, 7))"
   ]
  },
  {
   "cell_type": "code",
   "execution_count": 14,
   "metadata": {
    "deletable": false,
    "id": "lwjvF2ghhzqR",
    "nbgrader": {
     "cell_type": "code",
     "checksum": "76ff640e1496d6a701d8ee931d33ab6d",
     "grade": false,
     "grade_id": "cell-62355e2e7cd90bcd",
     "locked": false,
     "schema_version": 3,
     "solution": true,
     "task": false
    },
    "tags": []
   },
   "outputs": [
    {
     "data": {
      "text/plain": [
       "array([[41, 73, 94],\n",
       "       [67, 33, 92],\n",
       "       [20, 65, 49]])"
      ]
     },
     "execution_count": 14,
     "metadata": {},
     "output_type": "execute_result"
    }
   ],
   "source": [
    "shape=rand_array.shape\n",
    "\n",
    "middle_array = rand_array[1:4,2:5]\n",
    "middle_array \n",
    "#rand_array\n",
    "# YOUR CODE HERE\n",
    "#raise NotImplementedError()"
   ]
  },
  {
   "cell_type": "code",
   "execution_count": 15,
   "metadata": {
    "deletable": false,
    "editable": false,
    "id": "o41eLKOlhzqR",
    "nbgrader": {
     "cell_type": "code",
     "checksum": "60ec1635732b8fa6b20f82b54d963859",
     "grade": true,
     "grade_id": "cell-179870df2600bf27",
     "locked": true,
     "points": 1,
     "schema_version": 3,
     "solution": false,
     "task": false
    },
    "tags": []
   },
   "outputs": [],
   "source": [
    "# Hidden tests are within this cell"
   ]
  },
  {
   "cell_type": "markdown",
   "metadata": {
    "deletable": false,
    "editable": false,
    "nbgrader": {
     "cell_type": "markdown",
     "checksum": "1a5a472c2304cb083a936b60284e9dbe",
     "grade": false,
     "grade_id": "cell-4f431b919c7e97a0",
     "locked": true,
     "schema_version": 3,
     "solution": false,
     "task": false
    },
    "tags": []
   },
   "source": [
    "### 2.6 Extract data from an array [1 point]\n",
    "\n",
    "Select the middle `3` rows (and all columns) of `rand_array`. Save them to the variable `middle_rows`.\n"
   ]
  },
  {
   "cell_type": "code",
   "execution_count": 16,
   "metadata": {
    "deletable": false,
    "id": "o_coFVv4hzqR",
    "nbgrader": {
     "cell_type": "code",
     "checksum": "d017d9981d1ff47b398f6413e1d0bba5",
     "grade": false,
     "grade_id": "cell-7f6b98a57643305a",
     "locked": false,
     "schema_version": 3,
     "solution": true,
     "task": false
    }
   },
   "outputs": [
    {
     "data": {
      "text/plain": [
       "array([[20, 94, 41, 73, 94, 43, 14],\n",
       "       [37, 53, 67, 33, 92, 60, 26],\n",
       "       [48, 25, 20, 65, 49, 97, 43]])"
      ]
     },
     "execution_count": 16,
     "metadata": {},
     "output_type": "execute_result"
    }
   ],
   "source": [
    "middle_rows = rand_array[1:4,]\n",
    "middle_rows\n",
    "# YOUR CODE HERE\n",
    "#raise NotImplementedError()"
   ]
  },
  {
   "cell_type": "code",
   "execution_count": 17,
   "metadata": {
    "deletable": false,
    "editable": false,
    "id": "DhL0YbL2hzqR",
    "nbgrader": {
     "cell_type": "code",
     "checksum": "a3d7db653ad659646e3cf2ab2521eb6f",
     "grade": true,
     "grade_id": "cell-fc6d693dec609155",
     "locked": true,
     "points": 1,
     "schema_version": 3,
     "solution": false,
     "task": false
    },
    "tags": []
   },
   "outputs": [],
   "source": [
    "# Hidden tests are within this cell"
   ]
  },
  {
   "cell_type": "markdown",
   "metadata": {
    "deletable": false,
    "editable": false,
    "nbgrader": {
     "cell_type": "markdown",
     "checksum": "a68250e02a724c08deaef792ffea0f58",
     "grade": false,
     "grade_id": "cell-ad0d812d6bc610ff",
     "locked": true,
     "schema_version": 3,
     "solution": false,
     "task": false
    }
   },
   "source": [
    "### 2.7 Extract data from an array [1 point]\n",
    "\n",
    "Select the middle `3` columns (and all rows) of `rand_array`. Save them to the variable `middle_columns`.\n"
   ]
  },
  {
   "cell_type": "code",
   "execution_count": 18,
   "metadata": {
    "deletable": false,
    "id": "JaWysh-PhzqR",
    "nbgrader": {
     "cell_type": "code",
     "checksum": "489f1ecf4de4c457e9d577ac49f00b39",
     "grade": false,
     "grade_id": "cell-892b2156277ca140",
     "locked": false,
     "schema_version": 3,
     "solution": true,
     "task": false
    }
   },
   "outputs": [
    {
     "data": {
      "text/plain": [
       "array([[18, 55, 35],\n",
       "       [41, 73, 94],\n",
       "       [67, 33, 92],\n",
       "       [20, 65, 49],\n",
       "       [22,  1, 42]])"
      ]
     },
     "execution_count": 18,
     "metadata": {},
     "output_type": "execute_result"
    }
   ],
   "source": [
    "middle_columns = rand_array[:,2:5]\n",
    "middle_columns\n",
    "# YOUR CODE HERE\n",
    "#raise NotImplementedError()"
   ]
  },
  {
   "cell_type": "code",
   "execution_count": 19,
   "metadata": {
    "deletable": false,
    "editable": false,
    "id": "UojmILgEhzqS",
    "nbgrader": {
     "cell_type": "code",
     "checksum": "93de39f3d72d02fedf5d5d22d375d8f9",
     "grade": true,
     "grade_id": "cell-cb6e2a4fc37b9a6d",
     "locked": true,
     "points": 1,
     "schema_version": 3,
     "solution": false,
     "task": false
    },
    "tags": []
   },
   "outputs": [],
   "source": [
    "# Hidden tests are within this cell"
   ]
  },
  {
   "cell_type": "markdown",
   "metadata": {
    "deletable": false,
    "editable": false,
    "nbgrader": {
     "cell_type": "markdown",
     "checksum": "9ad402c798372e5ad69e6e6961f790b9",
     "grade": false,
     "grade_id": "cell-fc2ef828452343bc",
     "locked": true,
     "schema_version": 3,
     "solution": false,
     "task": false
    }
   },
   "source": [
    "### 2.8 Create array [1 point]\n",
    "\n",
    "Make a **`3`x`3`** NumPy array with the values `1`, `2`, `3` on the diagonal, and 0s everywhere\n",
    "else. Save it to the variable `task_nine_array`."
   ]
  },
  {
   "cell_type": "code",
   "execution_count": 20,
   "metadata": {
    "deletable": false,
    "id": "KkZ7AO_qhzqS",
    "nbgrader": {
     "cell_type": "code",
     "checksum": "7693f8a27eea7f6d65978768851cc834",
     "grade": false,
     "grade_id": "cell-3f6eb9bbcb3cef3d",
     "locked": false,
     "schema_version": 3,
     "solution": true,
     "task": false
    }
   },
   "outputs": [
    {
     "data": {
      "text/plain": [
       "array([[1, 0, 0],\n",
       "       [0, 2, 0],\n",
       "       [0, 0, 3]])"
      ]
     },
     "execution_count": 20,
     "metadata": {},
     "output_type": "execute_result"
    }
   ],
   "source": [
    "task_nine_array = np.diag([1,2,3])\n",
    "task_nine_array\n",
    "# YOUR CODE HERE\n",
    "#raise NotImplementedError()"
   ]
  },
  {
   "cell_type": "code",
   "execution_count": 21,
   "metadata": {
    "deletable": false,
    "editable": false,
    "nbgrader": {
     "cell_type": "code",
     "checksum": "89af806bb4f4aa3cc0bc3f7d06f4a03b",
     "grade": true,
     "grade_id": "cell-22c2ca8037e43a9b",
     "locked": true,
     "points": 1,
     "schema_version": 3,
     "solution": false,
     "task": false
    },
    "tags": []
   },
   "outputs": [],
   "source": [
    "# Hidden tests are within this cell"
   ]
  },
  {
   "cell_type": "markdown",
   "metadata": {
    "deletable": false,
    "editable": false,
    "nbgrader": {
     "cell_type": "markdown",
     "checksum": "574ad3d7956615c628b4a6fe9fb1056e",
     "grade": false,
     "grade_id": "cell-3515f74656a48c23",
     "locked": true,
     "schema_version": 3,
     "solution": false,
     "task": false
    }
   },
   "source": [
    "### 2.9 Create array with nulls [1 point]\n",
    "\n",
    "Make a **`3`x`3`** NumPy array with the values `1`, `2`, `3` on the diagonal and null values\n",
    "everywhere else. Save it to the variable `task_ten_array`.\n",
    "\n",
    "Hint: if you create the array with integer values, you will need to convert it to a `float` to add\n",
    "`np.nan` values."
   ]
  },
  {
   "cell_type": "code",
   "execution_count": 22,
   "metadata": {
    "deletable": false,
    "id": "G_faeZ8fhzqS",
    "nbgrader": {
     "cell_type": "code",
     "checksum": "9c97827810037c6f20e43a2e02c3b867",
     "grade": false,
     "grade_id": "cell-8bc293af45a09c74",
     "locked": false,
     "schema_version": 3,
     "solution": true,
     "task": false
    }
   },
   "outputs": [
    {
     "data": {
      "text/plain": [
       "array([[ 1., nan, nan],\n",
       "       [nan,  2., nan],\n",
       "       [nan, nan,  3.]])"
      ]
     },
     "execution_count": 22,
     "metadata": {},
     "output_type": "execute_result"
    }
   ],
   "source": [
    "task_ten_array = np.full((3,3),np.nan)\n",
    "np.fill_diagonal(task_ten_array,[1,2,3])\n",
    "task_ten_array\n",
    "# YOUR CODE HERE\n",
    "#raise NotImplementedError()"
   ]
  },
  {
   "cell_type": "code",
   "execution_count": 23,
   "metadata": {
    "deletable": false,
    "editable": false,
    "nbgrader": {
     "cell_type": "code",
     "checksum": "03f5c763477cf85601c684da647dc4e5",
     "grade": true,
     "grade_id": "cell-b6ddf4616faa61d5",
     "locked": true,
     "points": 1,
     "schema_version": 3,
     "solution": false,
     "task": false
    },
    "tags": []
   },
   "outputs": [],
   "source": [
    "# Hidden tests are within this cell"
   ]
  },
  {
   "cell_type": "markdown",
   "metadata": {
    "deletable": false,
    "editable": false,
    "nbgrader": {
     "cell_type": "markdown",
     "checksum": "e6db0d186b5e2deca4113868d23a3000",
     "grade": false,
     "grade_id": "cell-022a861109a1afad",
     "locked": true,
     "schema_version": 3,
     "solution": false,
     "task": false
    }
   },
   "source": [
    "## Challenge 03\n",
    "### 3.1 Locating indices for null values [1 point]\n",
    "\n",
    "In the first cell below we have created an array with null values in five random locations.\n",
    "\n",
    "Find the indices of the `np.nan` values in `rand_array`. Save them to the variable `nan_indices`.\n",
    "`nan_indices` should have shape `(5, 2)`. Each row should contain the row and column index of a\n",
    "`np.nan` value."
   ]
  },
  {
   "cell_type": "code",
   "execution_count": 3,
   "metadata": {
    "deletable": false,
    "editable": false,
    "id": "rBkNaOy0hzqS",
    "nbgrader": {
     "cell_type": "code",
     "checksum": "3c0f392d2ec2729274f5deeff9d94e2e",
     "grade": false,
     "grade_id": "cell-36b4222fd2206237",
     "locked": true,
     "schema_version": 3,
     "solution": false,
     "task": false
    },
    "tags": []
   },
   "outputs": [],
   "source": [
    "np.random.seed(4242)\n",
    "rand_array = np.random.randint(1, 100, size=(5, 7))\n",
    "\n",
    "# Set five random values in rand_array to np.nan\n",
    "indices = np.random.choice(range(rand_array.size), size=5, replace=False)\n",
    "rand_array = rand_array.astype(float)\n",
    "rand_array.ravel()[indices] = np.nan\n"
   ]
  },
  {
   "cell_type": "code",
   "execution_count": 4,
   "metadata": {
    "deletable": false,
    "id": "xVM7p6KPhzqS",
    "nbgrader": {
     "cell_type": "code",
     "checksum": "02fb3857e4838c849870b2237b2ca4c5",
     "grade": false,
     "grade_id": "cell-eb7d8bb0c449ce71",
     "locked": false,
     "schema_version": 3,
     "solution": true,
     "task": false
    }
   },
   "outputs": [
    {
     "data": {
      "text/plain": [
       "array([[0, 1, 2, 3, 4],\n",
       "       [4, 1, 3, 6, 1]])"
      ]
     },
     "execution_count": 4,
     "metadata": {},
     "output_type": "execute_result"
    }
   ],
   "source": [
    "nan_indices = None\n",
    "nan_indices=np.array(np.where(np.isnan(rand_array)))\n",
    "nan_indices\n",
    "# YOUR CODE HERE\n",
    "#raise NotImplementedError()"
   ]
  },
  {
   "cell_type": "code",
   "execution_count": 5,
   "metadata": {
    "deletable": false,
    "editable": false,
    "nbgrader": {
     "cell_type": "code",
     "checksum": "8a91f6fa009c902ef9b1e91a60d46427",
     "grade": true,
     "grade_id": "cell-6017272a7fc91f51",
     "locked": true,
     "points": 1,
     "schema_version": 3,
     "solution": false,
     "task": false
    },
    "tags": []
   },
   "outputs": [],
   "source": [
    "# Hidden tests are within this cell"
   ]
  },
  {
   "cell_type": "markdown",
   "metadata": {
    "deletable": false,
    "editable": false,
    "nbgrader": {
     "cell_type": "markdown",
     "checksum": "69e697cbf6f9e22feee1976244685a6a",
     "grade": false,
     "grade_id": "cell-659bf5a2cad89341",
     "locked": true,
     "schema_version": 3,
     "solution": false,
     "task": false
    }
   },
   "source": [
    "### 3.2 Replace missing data [1 point]\n",
    "\n",
    "Replace the missing indices in `rand_array` with the value `1000`. Save the result to the variable\n",
    "`filled_array`."
   ]
  },
  {
   "cell_type": "code",
   "execution_count": 6,
   "metadata": {
    "deletable": false,
    "id": "d7sGXnEFhzqS",
    "nbgrader": {
     "cell_type": "code",
     "checksum": "7320f23c2788e74dd512ad31e35d33bb",
     "grade": false,
     "grade_id": "cell-82e6ece8f5f2d88f",
     "locked": false,
     "schema_version": 3,
     "solution": true,
     "task": false
    }
   },
   "outputs": [
    {
     "data": {
      "text/plain": [
       "array([[  47.,   14.,   18.,   55., 1000.,   81.,   18.],\n",
       "       [  20., 1000.,   41.,   73.,   94.,   43.,   14.],\n",
       "       [  37.,   53.,   67., 1000.,   92.,   60.,   26.],\n",
       "       [  48.,   25.,   20.,   65.,   49.,   97., 1000.],\n",
       "       [  21., 1000.,   22.,    1.,   42.,   63.,   98.]])"
      ]
     },
     "execution_count": 6,
     "metadata": {},
     "output_type": "execute_result"
    }
   ],
   "source": [
    "filled_array = None\n",
    "rand_array[np.isnan(rand_array)]=1000\n",
    "filled_array = rand_array\n",
    "filled_array\n",
    "# YOUR CODE HERE\n",
    "#raise NotImplementedError()"
   ]
  },
  {
   "cell_type": "code",
   "execution_count": 7,
   "metadata": {
    "deletable": false,
    "editable": false,
    "nbgrader": {
     "cell_type": "code",
     "checksum": "29b26641481699d311fa58720eb43799",
     "grade": true,
     "grade_id": "cell-f88b7714ad524f4e",
     "locked": true,
     "points": 1,
     "schema_version": 3,
     "solution": false,
     "task": false
    },
    "tags": []
   },
   "outputs": [],
   "source": [
    "# Hidden tests are within this cell"
   ]
  },
  {
   "cell_type": "markdown",
   "metadata": {
    "deletable": false,
    "editable": false,
    "id": "Tvvcznf8hzqS",
    "nbgrader": {
     "cell_type": "markdown",
     "checksum": "4e8d933f60d455d622bfcc5fba45e7d8",
     "grade": false,
     "grade_id": "cell-150a5a0e5625fa7a",
     "locked": true,
     "schema_version": 3,
     "solution": false,
     "task": false
    },
    "tags": []
   },
   "source": [
    "## Challenge 04\n",
    "\n",
    "Consider the following **`3`x`3`** NumPy arrays named `array1` and `array2`."
   ]
  },
  {
   "cell_type": "code",
   "execution_count": 29,
   "metadata": {
    "deletable": false,
    "editable": false,
    "id": "qSZBCxFDhzqS",
    "nbgrader": {
     "cell_type": "code",
     "checksum": "92076616427c0e52eda4e4fe160077fb",
     "grade": false,
     "grade_id": "cell-f09248a506a51c12",
     "locked": true,
     "schema_version": 3,
     "solution": false,
     "task": false
    },
    "tags": []
   },
   "outputs": [],
   "source": [
    "array1 = np.array([[1, 2, 3, 4],\n",
    "                   [5, 6, 7, 8],\n",
    "                   [9, 10, 11, 12]])\n",
    "\n",
    "array2 = np.array([[13, 14, 15, 16],\n",
    "                   [17, 18, 19, 20],\n",
    "                   [21, 22, 23, 24]])"
   ]
  },
  {
   "cell_type": "markdown",
   "metadata": {
    "deletable": false,
    "editable": false,
    "nbgrader": {
     "cell_type": "markdown",
     "checksum": "5568177d67d2e449fae37465c44fe449",
     "grade": false,
     "grade_id": "cell-415667bd63d98a4e",
     "locked": true,
     "schema_version": 3,
     "solution": false,
     "task": false
    }
   },
   "source": [
    "### 4.1 Sum arrays [1 point]\n",
    "\n",
    "Add up the two arrays **element-wise** and save the result to the variable `sum_array`.\n"
   ]
  },
  {
   "cell_type": "code",
   "execution_count": 30,
   "metadata": {
    "deletable": false,
    "id": "aCLMLA-lhzqT",
    "nbgrader": {
     "cell_type": "code",
     "checksum": "43c36c7ae198f890d7291fd827d9aea2",
     "grade": false,
     "grade_id": "cell-c91cdacd7f2155f6",
     "locked": false,
     "schema_version": 3,
     "solution": true,
     "task": false
    }
   },
   "outputs": [
    {
     "data": {
      "text/plain": [
       "array([[14, 16, 18, 20],\n",
       "       [22, 24, 26, 28],\n",
       "       [30, 32, 34, 36]])"
      ]
     },
     "execution_count": 30,
     "metadata": {},
     "output_type": "execute_result"
    }
   ],
   "source": [
    "sum_array = None\n",
    "sum_array = array1 + array2\n",
    "sum_array\n",
    "# YOUR CODE HERE\n",
    "#raise NotImplementedError()"
   ]
  },
  {
   "cell_type": "code",
   "execution_count": 31,
   "metadata": {
    "deletable": false,
    "editable": false,
    "nbgrader": {
     "cell_type": "code",
     "checksum": "5949eb78d123f8cc9bd5778677478ee6",
     "grade": true,
     "grade_id": "cell-860cf0bdef864af6",
     "locked": true,
     "points": 1,
     "schema_version": 3,
     "solution": false,
     "task": false
    },
    "tags": []
   },
   "outputs": [],
   "source": [
    "# Hidden tests are within this cell"
   ]
  },
  {
   "cell_type": "markdown",
   "metadata": {
    "deletable": false,
    "editable": false,
    "nbgrader": {
     "cell_type": "markdown",
     "checksum": "2c8e6f45ab32ae73f17ba3ad2c25b81b",
     "grade": false,
     "grade_id": "cell-9c8384cb94371e57",
     "locked": true,
     "schema_version": 3,
     "solution": false,
     "task": false
    }
   },
   "source": [
    "### 4.2 Sum vectors [1 point]\n",
    "\n",
    "Below is code that attempts to add up the values in two one-dimensional vectors. The result should\n",
    "be `[6, 8, 10, 12]`. However, the current code __does not__ produce the correct result. Apply the\n",
    "OILER framework to help you diagnose and resolve the issue."
   ]
  },
  {
   "cell_type": "code",
   "execution_count": 34,
   "metadata": {
    "deletable": false,
    "id": "IvY2Cd0uhzqT",
    "nbgrader": {
     "cell_type": "code",
     "checksum": "a687a1e023c37a1e827c4eaa666f17ad",
     "grade": false,
     "grade_id": "cell-9f9b697b98cf868f",
     "locked": false,
     "schema_version": 3,
     "solution": true,
     "task": false
    },
    "tags": []
   },
   "outputs": [
    {
     "data": {
      "text/plain": [
       "array([ 6,  8, 10, 12])"
      ]
     },
     "execution_count": 34,
     "metadata": {},
     "output_type": "execute_result"
    }
   ],
   "source": [
    "array1 = [1, 2, 3, 4]\n",
    "array2 = [5, 6, 7, 8]\n",
    "\n",
    "array3 = np.array(array1) + np.array(array2)\n",
    "array3\n",
    "\n",
    "# YOUR CODE HERE\n",
    "#raise NotImplementedError()"
   ]
  },
  {
   "cell_type": "code",
   "execution_count": 35,
   "metadata": {
    "deletable": false,
    "editable": false,
    "nbgrader": {
     "cell_type": "code",
     "checksum": "1efd275c1d65f4992f436c1925865abc",
     "grade": true,
     "grade_id": "cell-219d3ab834d5044f",
     "locked": true,
     "points": 1,
     "schema_version": 3,
     "solution": false,
     "task": false
    },
    "tags": []
   },
   "outputs": [],
   "source": [
    "# Hidden tests are within this cell"
   ]
  },
  {
   "cell_type": "code",
   "execution_count": null,
   "metadata": {},
   "outputs": [],
   "source": []
  }
 ],
 "metadata": {
  "colab": {
   "provenance": []
  },
  "kernelspec": {
   "display_name": "Python 3 (ipykernel)",
   "language": "python",
   "name": "python3"
  },
  "language_info": {
   "codemirror_mode": {
    "name": "ipython",
    "version": 3
   },
   "file_extension": ".py",
   "mimetype": "text/x-python",
   "name": "python",
   "nbconvert_exporter": "python",
   "pygments_lexer": "ipython3",
   "version": "3.9.13"
  }
 },
 "nbformat": 4,
 "nbformat_minor": 4
}
