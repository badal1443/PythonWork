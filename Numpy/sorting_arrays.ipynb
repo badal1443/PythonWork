{
 "cells": [
  {
   "cell_type": "markdown",
   "id": "4808b6cf-e705-44a3-9faa-1b11c0c2b11a",
   "metadata": {},
   "source": [
    "#sorting_arrays"
   ]
  },
  {
   "cell_type": "code",
   "execution_count": 1,
   "id": "a7f87ae0-9cc5-40a6-8f4e-6a772b4c2d61",
   "metadata": {},
   "outputs": [],
   "source": [
    "import numpy as np\n",
    "np.random.seed(42)"
   ]
  },
  {
   "cell_type": "code",
   "execution_count": 6,
   "id": "86c8062b-5caa-4b8e-bd5b-0dff28c2e0f8",
   "metadata": {},
   "outputs": [
    {
     "data": {
      "text/plain": [
       "array([8, 0, 9, 2, 6, 3, 8, 2, 4, 2])"
      ]
     },
     "execution_count": 6,
     "metadata": {},
     "output_type": "execute_result"
    }
   ],
   "source": [
    "rand_arr = np.random.randint(10,size=10)\n",
    "rand_arr"
   ]
  },
  {
   "cell_type": "code",
   "execution_count": 7,
   "id": "b1a0303d-a730-49ad-95cc-0543c35fde10",
   "metadata": {},
   "outputs": [],
   "source": [
    "rand_arr.sort() ## Without making copy, inplace"
   ]
  },
  {
   "cell_type": "code",
   "execution_count": 8,
   "id": "8504b5a9-6a01-485b-b920-faf59ce6ef48",
   "metadata": {},
   "outputs": [
    {
     "data": {
      "text/plain": [
       "array([1, 1, 3, 4, 6, 6, 8, 8, 8, 9])"
      ]
     },
     "execution_count": 8,
     "metadata": {},
     "output_type": "execute_result"
    }
   ],
   "source": [
    "rand_arr ## sorted array"
   ]
  },
  {
   "cell_type": "code",
   "execution_count": 9,
   "id": "b5830761-4def-4f12-a5b3-5268c2da4292",
   "metadata": {},
   "outputs": [
    {
     "data": {
      "text/plain": [
       "array([0, 1, 1, 2, 3, 3, 4, 6, 7, 9])"
      ]
     },
     "execution_count": 9,
     "metadata": {},
     "output_type": "execute_result"
    }
   ],
   "source": [
    "## using numpy sort to create a copy of orginal array\n",
    "arr2 = np.random.randint(10,size=10)\n",
    "arr3 = np.sort(arr2) ## sorts inb ascending order\n",
    "arr3"
   ]
  },
  {
   "cell_type": "code",
   "execution_count": 13,
   "id": "5040379d-383a-4433-8b31-f683071feda0",
   "metadata": {},
   "outputs": [
    {
     "data": {
      "text/plain": [
       "array([9, 7, 6, 4, 3, 3, 2, 1, 1, 0])"
      ]
     },
     "execution_count": 13,
     "metadata": {},
     "output_type": "execute_result"
    }
   ],
   "source": [
    "## to sort in descending order we need to use np.flip on already sorted array\n",
    "arr4=np.flip(arr3)\n",
    "arr4\n"
   ]
  },
  {
   "cell_type": "code",
   "execution_count": 14,
   "id": "9a8c7d14-2d4d-479f-9e8b-02b3837fdbf9",
   "metadata": {},
   "outputs": [
    {
     "data": {
      "text/plain": [
       "array([9, 4, 1, 3, 6, 7, 2, 0, 3, 1])"
      ]
     },
     "execution_count": 14,
     "metadata": {},
     "output_type": "execute_result"
    }
   ],
   "source": [
    "arr2"
   ]
  },
  {
   "cell_type": "code",
   "execution_count": 15,
   "id": "2b54128b-b9d3-45cf-aead-1230b254f1ad",
   "metadata": {},
   "outputs": [
    {
     "data": {
      "text/plain": [
       "array([1, 3, 0, 2, 7, 6, 3, 1, 4, 9])"
      ]
     },
     "execution_count": 15,
     "metadata": {},
     "output_type": "execute_result"
    }
   ],
   "source": [
    "arr5= np.flip(arr2)  # on unsorted array, it just reverses the elements\n",
    "arr5"
   ]
  },
  {
   "cell_type": "code",
   "execution_count": 16,
   "id": "4fb7f25c-675b-4420-8027-e017757cc785",
   "metadata": {},
   "outputs": [
    {
     "data": {
      "text/plain": [
       "array([9, 4, 1, 3, 6, 7, 2, 0, 3, 1])"
      ]
     },
     "execution_count": 16,
     "metadata": {},
     "output_type": "execute_result"
    }
   ],
   "source": [
    "## reverse array using slicing\n",
    "arr2"
   ]
  },
  {
   "cell_type": "code",
   "execution_count": 20,
   "id": "e76865ce-851a-4fa9-a16b-d4f8d1f06684",
   "metadata": {},
   "outputs": [],
   "source": [
    "arr2_reverse = arr2[::-1]"
   ]
  },
  {
   "cell_type": "code",
   "execution_count": 21,
   "id": "a925f771-8c84-4da1-8287-17394847f739",
   "metadata": {},
   "outputs": [
    {
     "data": {
      "text/plain": [
       "array([1, 3, 0, 2, 7, 6, 3, 1, 4, 9])"
      ]
     },
     "execution_count": 21,
     "metadata": {},
     "output_type": "execute_result"
    }
   ],
   "source": [
    "arr2_reverse"
   ]
  },
  {
   "cell_type": "markdown",
   "id": "2b30acdd-e7c1-47cf-810c-24c7bc1f57ca",
   "metadata": {},
   "source": [
    "## Sorting matrices"
   ]
  },
  {
   "cell_type": "code",
   "execution_count": 24,
   "id": "a2504135-caea-41c0-8688-fabb8be8a49b",
   "metadata": {},
   "outputs": [
    {
     "data": {
      "text/plain": [
       "array([[7, 3, 1, 5],\n",
       "       [5, 9, 3, 5],\n",
       "       [1, 9, 1, 9],\n",
       "       [3, 7, 6, 8]])"
      ]
     },
     "execution_count": 24,
     "metadata": {},
     "output_type": "execute_result"
    }
   ],
   "source": [
    "matrix_a = np.random.randint(10,size=(4,4))\n",
    "matrix_a"
   ]
  },
  {
   "cell_type": "code",
   "execution_count": 25,
   "id": "6fe23ac3-c746-4f89-bf59-724bdcfd7dbb",
   "metadata": {},
   "outputs": [
    {
     "data": {
      "text/plain": [
       "array([[1, 3, 5, 7],\n",
       "       [3, 5, 5, 9],\n",
       "       [1, 1, 9, 9],\n",
       "       [3, 6, 7, 8]])"
      ]
     },
     "execution_count": 25,
     "metadata": {},
     "output_type": "execute_result"
    }
   ],
   "source": [
    "matrix_b= np.sort(matrix_a) ## row wise sorting\n",
    "matrix_b"
   ]
  },
  {
   "cell_type": "code",
   "execution_count": 28,
   "id": "bdd58ce2-dc1a-488e-b03d-3cd74ac4c947",
   "metadata": {},
   "outputs": [
    {
     "data": {
      "text/plain": [
       "array([[1, 3, 1, 5],\n",
       "       [3, 7, 1, 5],\n",
       "       [5, 9, 3, 8],\n",
       "       [7, 9, 6, 9]])"
      ]
     },
     "execution_count": 28,
     "metadata": {},
     "output_type": "execute_result"
    }
   ],
   "source": [
    "matrix_c = np.sort(matrix_a,axis=0)\n",
    "matrix_c"
   ]
  },
  {
   "cell_type": "code",
   "execution_count": null,
   "id": "9b55cf8d-354d-43a9-9148-b81072a1ecad",
   "metadata": {},
   "outputs": [],
   "source": []
  }
 ],
 "metadata": {
  "kernelspec": {
   "display_name": "Python 3 (ipykernel)",
   "language": "python",
   "name": "python3"
  },
  "language_info": {
   "codemirror_mode": {
    "name": "ipython",
    "version": 3
   },
   "file_extension": ".py",
   "mimetype": "text/x-python",
   "name": "python",
   "nbconvert_exporter": "python",
   "pygments_lexer": "ipython3",
   "version": "3.9.13"
  }
 },
 "nbformat": 4,
 "nbformat_minor": 5
}
