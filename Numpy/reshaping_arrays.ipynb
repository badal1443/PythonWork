{
 "cells": [
  {
   "cell_type": "markdown",
   "id": "380b29c4-6d5a-4aaa-a7ac-e41223aaae42",
   "metadata": {},
   "source": [
    "## Reshaping arrays\n"
   ]
  },
  {
   "cell_type": "markdown",
   "id": "759f8876-9b8d-43ee-a9d7-ffcc09f40e0d",
   "metadata": {},
   "source": [
    "## working with reshape and flattening methods.\n",
    "## Also check the effect of these methods on original arrrays, if its a copy or not."
   ]
  },
  {
   "cell_type": "code",
   "execution_count": 1,
   "id": "9891dd67-f455-47c0-b28b-03ef31fe1501",
   "metadata": {},
   "outputs": [],
   "source": [
    "import numpy as np\n"
   ]
  },
  {
   "cell_type": "code",
   "execution_count": 2,
   "id": "2664dd16-299e-4e3d-98df-b0b422f51702",
   "metadata": {},
   "outputs": [],
   "source": [
    "my_arr= np.array([1,2,3,4,5,6])"
   ]
  },
  {
   "cell_type": "code",
   "execution_count": 3,
   "id": "c747182c-1f35-495f-9764-6100077ea423",
   "metadata": {},
   "outputs": [
    {
     "data": {
      "text/plain": [
       "(6,)"
      ]
     },
     "execution_count": 3,
     "metadata": {},
     "output_type": "execute_result"
    }
   ],
   "source": [
    "my_arr.shape"
   ]
  },
  {
   "cell_type": "code",
   "execution_count": 5,
   "id": "5665d43b-2d7e-489b-855b-1ced9f26eea9",
   "metadata": {},
   "outputs": [
    {
     "data": {
      "text/plain": [
       "array([[1, 2],\n",
       "       [3, 4],\n",
       "       [5, 6]])"
      ]
     },
     "execution_count": 5,
     "metadata": {},
     "output_type": "execute_result"
    }
   ],
   "source": [
    "## reshape into 3 rows 2 columns\n",
    "\n",
    "r=my_arr.reshape(3,2)\n",
    "r"
   ]
  },
  {
   "cell_type": "code",
   "execution_count": 8,
   "id": "7c6d2414-9537-45ec-bbbd-8cb9580ed7b5",
   "metadata": {},
   "outputs": [
    {
     "data": {
      "text/plain": [
       "array([[1, 2],\n",
       "       [3, 4],\n",
       "       [5, 6]])"
      ]
     },
     "execution_count": 8,
     "metadata": {},
     "output_type": "execute_result"
    }
   ],
   "source": [
    "r1= my_arr.reshape(-1,2) #2 columns,\n",
    "r1"
   ]
  },
  {
   "cell_type": "code",
   "execution_count": null,
   "id": "b2fa62d0-f64d-4d16-9c33-98dbb2973331",
   "metadata": {},
   "outputs": [],
   "source": [
    "r1= my_arr.reshape(2,-1) #2 rows,\n",
    "r1"
   ]
  }
 ],
 "metadata": {
  "kernelspec": {
   "display_name": "Python 3 (ipykernel)",
   "language": "python",
   "name": "python3"
  },
  "language_info": {
   "codemirror_mode": {
    "name": "ipython",
    "version": 3
   },
   "file_extension": ".py",
   "mimetype": "text/x-python",
   "name": "python",
   "nbconvert_exporter": "python",
   "pygments_lexer": "ipython3",
   "version": "3.9.13"
  }
 },
 "nbformat": 4,
 "nbformat_minor": 5
}
