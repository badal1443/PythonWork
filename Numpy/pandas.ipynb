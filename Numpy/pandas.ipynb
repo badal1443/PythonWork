{
 "cells": [
  {
   "cell_type": "code",
   "execution_count": null,
   "id": "60ae5202-375c-46b6-add6-0400fe90461a",
   "metadata": {},
   "outputs": [],
   "source": [
    "# Learning Pandas library\n",
    "import pandas as "
   ]
  }
 ],
 "metadata": {
  "kernelspec": {
   "display_name": "Python 3 (ipykernel)",
   "language": "python",
   "name": "python3"
  },
  "language_info": {
   "codemirror_mode": {
    "name": "ipython",
    "version": 3
   },
   "file_extension": ".py",
   "mimetype": "text/x-python",
   "name": "python",
   "nbconvert_exporter": "python",
   "pygments_lexer": "ipython3",
   "version": "3.9.13"
  }
 },
 "nbformat": 4,
 "nbformat_minor": 5
}
