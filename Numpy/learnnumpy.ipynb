{
 "cells": [
  {
   "cell_type": "code",
   "execution_count": null,
   "id": "7d02a25e-e257-492d-a831-83cbb476f9e0",
   "metadata": {},
   "outputs": [],
   "source": [
    "#pip install numpy"
   ]
  },
  {
   "cell_type": "code",
   "execution_count": 2,
   "id": "87fb02fa-5e18-4e2a-964e-8d76f07c45a1",
   "metadata": {},
   "outputs": [],
   "source": [
    "import numpy as np"
   ]
  },
  {
   "cell_type": "code",
   "execution_count": 4,
   "id": "97195e19-5ada-41a4-92ea-f1a5e050e133",
   "metadata": {},
   "outputs": [
    {
     "name": "stdout",
     "output_type": "stream",
     "text": [
      "[1 2 3]\n",
      "(3,)\n"
     ]
    }
   ],
   "source": [
    "arr=np.array([1,2,3])\n",
    "print(arr)\n",
    "print(arr.shape)"
   ]
  },
  {
   "cell_type": "code",
   "execution_count": 5,
   "id": "8b0cf9da-d122-437b-bac1-c9edf8375f4f",
   "metadata": {},
   "outputs": [
    {
     "name": "stdout",
     "output_type": "stream",
     "text": [
      "[[2 3 4]\n",
      " [6 7 8]\n",
      " [5 5 5]]\n",
      "(3, 3)\n"
     ]
    }
   ],
   "source": [
    "# 2 D array\n",
    "\n",
    "twod=np.array([[2,3,4],[6,7,8],[5,5,5]])\n",
    "print(twod)\n",
    "print(twod.shape)"
   ]
  },
  {
   "cell_type": "code",
   "execution_count": 8,
   "id": "742ae13d-21ac-4909-9605-877be902c56a",
   "metadata": {},
   "outputs": [
    {
     "name": "stdout",
     "output_type": "stream",
     "text": [
      " a is of dim : 1\n",
      "b is of dim, 2\n"
     ]
    }
   ],
   "source": [
    "#Get dimension of the arrays created above\n",
    "print(\" a is of dim :\",arr.ndim)\n",
    "print(\"b is of dim,\",twod.ndim)"
   ]
  },
  {
   "cell_type": "code",
   "execution_count": 10,
   "id": "f4fd0809-2d04-43c1-a641-c555733134ec",
   "metadata": {},
   "outputs": [
    {
     "name": "stdout",
     "output_type": "stream",
     "text": [
      "int64\n",
      "int64\n",
      "[1 2 3]\n",
      "int16\n"
     ]
    }
   ],
   "source": [
    "#Data types\n",
    "print(arr.dtype)\n",
    "print(twod.dtype)\n",
    "\n",
    "#specify type of int for array\n",
    "c=np.array([1,2,3],dtype=\"int16\")\n",
    "print(c)\n",
    "print(c.dtype)"
   ]
  },
  {
   "cell_type": "code",
   "execution_count": 15,
   "id": "7a2c6e1a-8b64-4558-8d64-761b58e054dc",
   "metadata": {},
   "outputs": [
    {
     "name": "stdout",
     "output_type": "stream",
     "text": [
      "3\n",
      "9\n",
      "8 int64\n"
     ]
    }
   ],
   "source": [
    "#number of elements\n",
    "print(arr.size)\n",
    "print(twod.size)\n",
    "\n",
    "##byte size of each element, depends on data type. int64 , each element is of 8 bytes\n",
    "print(arr.itemsize,arr.dtype)"
   ]
  },
  {
   "cell_type": "code",
   "execution_count": 16,
   "id": "00038b73-4a10-4979-9968-3cf506f78f9a",
   "metadata": {},
   "outputs": [
    {
     "name": "stdout",
     "output_type": "stream",
     "text": [
      "24\n",
      "24\n",
      "6\n"
     ]
    }
   ],
   "source": [
    "#size of numpy array\n",
    "print(arr.nbytes) # same as arr.itemsize * arr.size\n",
    "print(arr.itemsize * arr.size)\n",
    "print(c.nbytes)"
   ]
  },
  {
   "cell_type": "code",
   "execution_count": 17,
   "id": "5aa02e52-fc39-45ab-902c-dcb995323f4e",
   "metadata": {},
   "outputs": [
    {
     "name": "stdout",
     "output_type": "stream",
     "text": [
      "[[1 2 3]\n",
      " [4 5 6]]\n"
     ]
    }
   ],
   "source": [
    "aa=np.array([[1,2,3],[4,5,6]])\n",
    "print(aa)"
   ]
  },
  {
   "cell_type": "code",
   "execution_count": 18,
   "id": "edb471da-2637-4250-bbfb-e29daf3bada1",
   "metadata": {},
   "outputs": [
    {
     "name": "stdout",
     "output_type": "stream",
     "text": [
      "5\n"
     ]
    }
   ],
   "source": [
    "print(aa[1,1])"
   ]
  },
  {
   "cell_type": "code",
   "execution_count": 19,
   "id": "5e11f127-e7da-4f22-9360-b1ead0c0883c",
   "metadata": {},
   "outputs": [
    {
     "name": "stdout",
     "output_type": "stream",
     "text": [
      "[2. 3. 4.]\n"
     ]
    }
   ],
   "source": [
    "bb= np.array([4,6,8])\n",
    "print(bb/2)"
   ]
  },
  {
   "cell_type": "code",
   "execution_count": 25,
   "id": "3e7a4e90-696e-425b-b30d-9c25c599a85e",
   "metadata": {},
   "outputs": [
    {
     "name": "stdout",
     "output_type": "stream",
     "text": [
      "yes\n"
     ]
    }
   ],
   "source": [
    "y=0.6\n",
    "d=\"yes\" if y>=0.5 else \"no\"\n",
    "print(d)"
   ]
  },
  {
   "cell_type": "code",
   "execution_count": 26,
   "id": "9d9f1559-c4c2-4165-ae80-4efa4213ee1e",
   "metadata": {},
   "outputs": [
    {
     "name": "stdout",
     "output_type": "stream",
     "text": [
      "[1. 2. 3. 4.]\n",
      "[0.1    0.01   0.001  0.0001]\n",
      "[1.1    2.01   3.001  4.0001]\n"
     ]
    }
   ],
   "source": [
    "a=[1.,2.,3.,4.]\n",
    "b=[0.1,0.01,0.001,0.0001]\n",
    "a=np.array(a)\n",
    "b=np.array(b)\n",
    "print(a)\n",
    "print(b)\n",
    "c=a+b\n",
    "print(c)"
   ]
  },
  {
   "cell_type": "code",
   "execution_count": 6,
   "id": "498197cf-8ad4-452e-b561-3564253e0917",
   "metadata": {},
   "outputs": [
    {
     "data": {
      "text/plain": [
       "array([[0., 0., 0., 0., 0.],\n",
       "       [0., 0., 0., 0., 0.],\n",
       "       [0., 0., 0., 0., 0.]])"
      ]
     },
     "execution_count": 6,
     "metadata": {},
     "output_type": "execute_result"
    }
   ],
   "source": [
    "shape = (3,5)\n",
    "my_arr=np.zeros(shape)"
   ]
  },
  {
   "cell_type": "code",
   "execution_count": 7,
   "id": "0764d13c-8651-4261-8448-d25ab26e41b9",
   "metadata": {},
   "outputs": [
    {
     "data": {
      "text/plain": [
       "array([[2, 2, 2, 2, 2],\n",
       "       [2, 2, 2, 2, 2],\n",
       "       [2, 2, 2, 2, 2]])"
      ]
     },
     "execution_count": 7,
     "metadata": {},
     "output_type": "execute_result"
    }
   ],
   "source": [
    "my_arr = np.full(shape,2)\n",
    "my_arr"
   ]
  },
  {
   "cell_type": "code",
   "execution_count": null,
   "id": "40852009-3a7d-43d8-872c-82d1f84abcca",
   "metadata": {},
   "outputs": [],
   "source": [
    "my_arr.dtype"
   ]
  },
  {
   "cell_type": "code",
   "execution_count": 11,
   "id": "1a94461d-6c7e-4370-aa3e-640242b3b251",
   "metadata": {},
   "outputs": [
    {
     "data": {
      "text/plain": [
       "array([[ 2.,  2.,  2., nan,  2.],\n",
       "       [ 2., nan,  2.,  2.,  2.],\n",
       "       [ 2., nan,  2., nan,  2.]])"
      ]
     },
     "execution_count": 11,
     "metadata": {},
     "output_type": "execute_result"
    }
   ],
   "source": [
    "## add 5 random nan values in array\n",
    "my_arr=my_arr.astype(float)\n",
    "my_arr[1,1]=np.nan\n",
    "my_arr[2,3]=np.nan\n",
    "my_arr[2,1]=np.nan\n",
    "my_arr[0,3]=np.nan\n",
    "my_arr"
   ]
  },
  {
   "cell_type": "code",
   "execution_count": 13,
   "id": "8319a058-b240-4e46-b5fe-4ce5180f63ad",
   "metadata": {},
   "outputs": [
    {
     "data": {
      "text/plain": [
       "array([[False, False, False,  True, False],\n",
       "       [False,  True, False, False, False],\n",
       "       [False,  True, False,  True, False]])"
      ]
     },
     "execution_count": 13,
     "metadata": {},
     "output_type": "execute_result"
    }
   ],
   "source": [
    "np.isnan(my_arr)"
   ]
  },
  {
   "cell_type": "code",
   "execution_count": 15,
   "id": "78f9b864-06a4-4bf8-b5a9-952128fa3427",
   "metadata": {},
   "outputs": [
    {
     "data": {
      "text/plain": [
       "array([[0, 1, 2, 2],\n",
       "       [3, 1, 1, 3]])"
      ]
     },
     "execution_count": 15,
     "metadata": {},
     "output_type": "execute_result"
    }
   ],
   "source": [
    "np.array(np.where(np.isnan(my_arr)))"
   ]
  },
  {
   "cell_type": "code",
   "execution_count": 16,
   "id": "30fdc46e-fd0c-421f-842b-2c10bd5639e8",
   "metadata": {},
   "outputs": [
    {
     "data": {
      "text/plain": [
       "array([[ 2.,  2.,  2., nan,  2.],\n",
       "       [ 2., nan,  2.,  2.,  2.],\n",
       "       [ 2., nan,  2., nan,  2.]])"
      ]
     },
     "execution_count": 16,
     "metadata": {},
     "output_type": "execute_result"
    }
   ],
   "source": [
    "my_arr"
   ]
  },
  {
   "cell_type": "code",
   "execution_count": 17,
   "id": "9e95a333-4800-4c3f-ac5e-f1f83769c55c",
   "metadata": {},
   "outputs": [
    {
     "data": {
      "text/plain": [
       "array([[   2.,    2.,    2., 1000.,    2.],\n",
       "       [   2., 1000.,    2.,    2.,    2.],\n",
       "       [   2., 1000.,    2., 1000.,    2.]])"
      ]
     },
     "execution_count": 17,
     "metadata": {},
     "output_type": "execute_result"
    }
   ],
   "source": [
    "my_arr[np.isnan(my_arr)]=1000\n",
    "my_arr"
   ]
  },
  {
   "cell_type": "code",
   "execution_count": null,
   "id": "77ba6e1b-b9b1-490d-938b-26d1fd22b2ef",
   "metadata": {},
   "outputs": [],
   "source": []
  }
 ],
 "metadata": {
  "kernelspec": {
   "display_name": "Python 3 (ipykernel)",
   "language": "python",
   "name": "python3"
  },
  "language_info": {
   "codemirror_mode": {
    "name": "ipython",
    "version": 3
   },
   "file_extension": ".py",
   "mimetype": "text/x-python",
   "name": "python",
   "nbconvert_exporter": "python",
   "pygments_lexer": "ipython3",
   "version": "3.9.13"
  }
 },
 "nbformat": 4,
 "nbformat_minor": 5
}
