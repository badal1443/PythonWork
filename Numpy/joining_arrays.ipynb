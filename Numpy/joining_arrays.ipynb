{
 "cells": [
  {
   "cell_type": "markdown",
   "id": "151ab6b1-6dd9-48fd-a04f-a340fdaf9987",
   "metadata": {},
   "source": [
    "## joining arrays"
   ]
  },
  {
   "cell_type": "code",
   "execution_count": 1,
   "id": "53bfaebd-7fdd-410d-8139-e221b612f9f4",
   "metadata": {},
   "outputs": [],
   "source": [
    "import numpy as np\n",
    "np.random.seed(42)"
   ]
  },
  {
   "cell_type": "code",
   "execution_count": 2,
   "id": "e0c0f698-3656-4e92-988b-7d57f0df360d",
   "metadata": {},
   "outputs": [],
   "source": [
    "arr1 = np.array([1,2,3,4])\n",
    "arr2 = np.array([5,6,7,8])"
   ]
  },
  {
   "cell_type": "code",
   "execution_count": 4,
   "id": "a7174ae3-8a75-4b0b-a82a-1c691977dad1",
   "metadata": {},
   "outputs": [
    {
     "data": {
      "text/plain": [
       "array([1, 2, 3, 4, 5, 6, 7, 8])"
      ]
     },
     "execution_count": 4,
     "metadata": {},
     "output_type": "execute_result"
    }
   ],
   "source": [
    "arr3 = np.concatenate((arr1,arr2)) # note arrays are passed as tuple\n",
    "arr3"
   ]
  },
  {
   "cell_type": "code",
   "execution_count": 6,
   "id": "a8e35b88-f4e9-4208-ad65-6d919ba5493c",
   "metadata": {},
   "outputs": [
    {
     "data": {
      "text/plain": [
       "array([1, 2, 3, 4, 5, 6, 7, 8])"
      ]
     },
     "execution_count": 6,
     "metadata": {},
     "output_type": "execute_result"
    }
   ],
   "source": [
    "#Horizontal and Vertical Stack\n",
    "arr4 = np.hstack((arr1,arr2)) # same as concatenate\n",
    "arr4"
   ]
  },
  {
   "cell_type": "code",
   "execution_count": 7,
   "id": "35b6b7c8-bb33-4d4f-89b4-f47403e50457",
   "metadata": {},
   "outputs": [
    {
     "data": {
      "text/plain": [
       "array([[1, 2, 3, 4],\n",
       "       [5, 6, 7, 8]])"
      ]
     },
     "execution_count": 7,
     "metadata": {},
     "output_type": "execute_result"
    }
   ],
   "source": [
    "arr5 = np.vstack((arr1,arr2))\n",
    "arr5"
   ]
  },
  {
   "cell_type": "code",
   "execution_count": 10,
   "id": "946e2fa9-e2da-44c6-b78b-c800ec968376",
   "metadata": {},
   "outputs": [],
   "source": [
    "# Try 2X2 arraym\n",
    "matrix_a = np.array([[1,2,3,4],[5,6,7,8]])\n",
    "matrix_b= np.array([[11,12,13,14],[15,16,17,18]])"
   ]
  },
  {
   "cell_type": "code",
   "execution_count": 12,
   "id": "222edf58-a218-49c2-9af5-701ebab26dd9",
   "metadata": {},
   "outputs": [
    {
     "data": {
      "text/plain": [
       "array([[ 1,  2,  3,  4, 11, 12, 13, 14],\n",
       "       [ 5,  6,  7,  8, 15, 16, 17, 18]])"
      ]
     },
     "execution_count": 12,
     "metadata": {},
     "output_type": "execute_result"
    }
   ],
   "source": [
    "matrix_c = np.hstack((matrix_a,matrix_b))\n",
    "matrix_c"
   ]
  },
  {
   "cell_type": "code",
   "execution_count": 13,
   "id": "c1ba14f8-d374-4c80-823f-bc237aca8782",
   "metadata": {},
   "outputs": [
    {
     "data": {
      "text/plain": [
       "array([[ 1,  2,  3,  4],\n",
       "       [ 5,  6,  7,  8],\n",
       "       [11, 12, 13, 14],\n",
       "       [15, 16, 17, 18]])"
      ]
     },
     "execution_count": 13,
     "metadata": {},
     "output_type": "execute_result"
    }
   ],
   "source": [
    "matrix_c = np.vstack((matrix_a,matrix_b))\n",
    "matrix_c"
   ]
  },
  {
   "cell_type": "code",
   "execution_count": 15,
   "id": "11cd342f-8324-4b98-8485-cddf532322ca",
   "metadata": {},
   "outputs": [
    {
     "data": {
      "text/plain": [
       "array([[ 1,  2,  3,  4],\n",
       "       [ 5,  6,  7,  8],\n",
       "       [11, 12, 13, 14],\n",
       "       [15, 16, 17, 18]])"
      ]
     },
     "execution_count": 15,
     "metadata": {},
     "output_type": "execute_result"
    }
   ],
   "source": [
    "## Concatenate matrices\n",
    "\n",
    "matrix_d = np.concatenate((matrix_a,matrix_b)) # by default axis=0, vertically\n",
    "matrix_d"
   ]
  },
  {
   "cell_type": "code",
   "execution_count": 16,
   "id": "9ab087b6-e0a5-4fc1-935c-b6d2e7ebf2d4",
   "metadata": {},
   "outputs": [
    {
     "data": {
      "text/plain": [
       "array([[ 1,  2,  3,  4, 11, 12, 13, 14],\n",
       "       [ 5,  6,  7,  8, 15, 16, 17, 18]])"
      ]
     },
     "execution_count": 16,
     "metadata": {},
     "output_type": "execute_result"
    }
   ],
   "source": [
    "\n",
    "matrix_d = np.concatenate((matrix_a,matrix_b), axis=-1) # axis=-1, horizontally\n",
    "matrix_d"
   ]
  },
  {
   "cell_type": "code",
   "execution_count": 17,
   "id": "7c479ca2-9e1a-4809-a457-e210d5e9e4e0",
   "metadata": {},
   "outputs": [],
   "source": [
    "# To stack ,concatenate arrays one of the diemnsions should match, example, \n",
    "# if 1X2 is concatenated wit 1X1, they can only be concatenated at axis-0, row-wise"
   ]
  },
  {
   "cell_type": "code",
   "execution_count": null,
   "id": "b884c698-5067-49b6-a99a-90daf911e46f",
   "metadata": {},
   "outputs": [],
   "source": []
  }
 ],
 "metadata": {
  "kernelspec": {
   "display_name": "Python 3 (ipykernel)",
   "language": "python",
   "name": "python3"
  },
  "language_info": {
   "codemirror_mode": {
    "name": "ipython",
    "version": 3
   },
   "file_extension": ".py",
   "mimetype": "text/x-python",
   "name": "python",
   "nbconvert_exporter": "python",
   "pygments_lexer": "ipython3",
   "version": "3.9.13"
  }
 },
 "nbformat": 4,
 "nbformat_minor": 5
}
