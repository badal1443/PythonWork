{
 "cells": [
  {
   "cell_type": "markdown",
   "metadata": {},
   "source": [
    "# Spam email Neural Net."
   ]
  },
  {
   "cell_type": "code",
   "execution_count": 88,
   "metadata": {},
   "outputs": [],
   "source": [
    "import numpy as np\n",
    "import os\n",
    "from matplotlib import pyplot as plt\n",
    "from sklearn.neural_network import MLPClassifier\n",
    "from sklearn.model_selection import train_test_split\n",
    "import pandas as pd\n"
   ]
  },
  {
   "cell_type": "code",
   "execution_count": 126,
   "metadata": {},
   "outputs": [
    {
     "name": "stdout",
     "output_type": "stream",
     "text": [
      "Accuracy of this Model = 83.21564367191743%\n"
     ]
    }
   ],
   "source": [
    "dataCsv = pd.read_csv(\"./spambase.csv\",header=None)\n",
    "dataCsv = np.array(dataCsv)\n",
    "\n",
    "#dataX = dataCsv.head()\n",
    "dataX = dataCsv[:,:57]\n",
    "labelY = dataCsv[:,57:58]\n",
    "labelY = np.reshape(labelY,(1,4601))[0]\n",
    "\n",
    "data_train, data_test, label_train, label_test = train_test_split(dataX, labelY, test_size=0.4, random_state=0)\n",
    "\n",
    "#random_idx = np.random.randint(0,len(dataX),1000)\n",
    "\n",
    "#print(random_idx)\n",
    "\n",
    "#test_data = dataX[]\n",
    "# print(dataCsv.shape)\n",
    "# print(dataX.shape)\n",
    "# print(labelY)\n",
    "# data = [[3, 1.5],\n",
    "#            [2, 1],\n",
    "#            [4, 1.5],\n",
    "#            [3.5, .5],\n",
    "#            [1, 1],\n",
    "#            [5.5, 1]]\n",
    "\n",
    "# labels = [1,0,0,1,0,1]\n",
    "\n",
    "clf = MLPClassifier(activation='relu', alpha=1e-05, batch_size='auto',\n",
    "              beta_1=0.9, beta_2=0.999, early_stopping=False,\n",
    "              epsilon=1e-08, hidden_layer_sizes=(39, 39),\n",
    "              learning_rate='constant', learning_rate_init=0.001,\n",
    "              max_iter=2000, momentum=0.9, n_iter_no_change=10,\n",
    "              nesterovs_momentum=True, power_t=0.5, random_state=1,\n",
    "              shuffle=True, solver='lbfgs', tol=0.0001,\n",
    "              validation_fraction=0.1, verbose=False, warm_start=False)\n",
    "clf.fit(data_train,label_train)\n",
    "pred = clf.predict(data_test)\n",
    "\n",
    "#####################\n",
    "##Accuracy of the Model\n",
    "df = pd.DataFrame({\"Predicted\":pred,\"Actual\":label_test},columns=[\"Predicted\",\"Actual\"])\n",
    "#print(df.head(20))\n",
    "\n",
    "ver = pred == label_test\n",
    "print(\"Accuracy of this Model = \"+str((sum(ver)/len(label_test))*100)+\"%\")\n",
    "\n",
    "# #####Output the result\n",
    "# test_label = open(\"test_labels.csv\",\"w+\")\n",
    "# for i in range(len(label_test)):\n",
    "#     test_label.write(str(label_test[i])+\",\")\n",
    "\n",
    "\n",
    "# pred_label = open(\"pred_labels.csv\",\"w+\")\n",
    "# for j in range(len(pred)):\n",
    "#     pred_label.write(str(pred[j])+\",\")\n",
    "\n",
    "\n"
   ]
  },
  {
   "cell_type": "code",
   "execution_count": null,
   "metadata": {},
   "outputs": [],
   "source": []
  }
 ],
 "metadata": {
  "kernelspec": {
   "display_name": "Python 3",
   "language": "python",
   "name": "python3"
  },
  "language_info": {
   "codemirror_mode": {
    "name": "ipython",
    "version": 3
   },
   "file_extension": ".py",
   "mimetype": "text/x-python",
   "name": "python",
   "nbconvert_exporter": "python",
   "pygments_lexer": "ipython3",
   "version": "3.7.1"
  }
 },
 "nbformat": 4,
 "nbformat_minor": 2
}
