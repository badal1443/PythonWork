{
 "cells": [
  {
   "cell_type": "markdown",
   "metadata": {},
   "source": [
    "# Check if a website is up.\n"
   ]
  },
  {
   "cell_type": "code",
   "execution_count": 25,
   "metadata": {},
   "outputs": [
    {
     "name": "stdout",
     "output_type": "stream",
     "text": [
      "/Users/badalsingh/Workspace/PYTHONWORK/CheckURLStatus\n",
      "https://stackoverflow.com\n",
      " is ok.\n",
      "http://localhost:8888/tree\n",
      " is ok.\n",
      "https://www.cathaypacific.com\n",
      " is ok.\n"
     ]
    }
   ],
   "source": [
    "import urllib.request\n",
    "import os\n",
    "os.chdir('/Users/badalsingh/Workspace/PYTHONWORK/CheckURLStatus')\n",
    "print(os.getcwd())\n",
    "f=open('./websites.txt')\n",
    "\n",
    "websites = f.readlines()\n",
    "\n",
    "for website in websites:\n",
    "    if urllib.request.urlopen(website).getcode() == 200:\n",
    "        print(website+\" is ok.\")\n",
    "    else:\n",
    "        print(website+\" has some issue.\")    "
   ]
  }
 ],
 "metadata": {
  "kernelspec": {
   "display_name": "Python 3",
   "language": "python",
   "name": "python3"
  },
  "language_info": {
   "codemirror_mode": {
    "name": "ipython",
    "version": 3
   },
   "file_extension": ".py",
   "mimetype": "text/x-python",
   "name": "python",
   "nbconvert_exporter": "python",
   "pygments_lexer": "ipython3",
   "version": "3.7.1"
  }
 },
 "nbformat": 4,
 "nbformat_minor": 2
}
