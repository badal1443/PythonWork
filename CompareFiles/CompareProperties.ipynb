{
 "cells": [
  {
   "cell_type": "code",
   "execution_count": 5,
   "metadata": {},
   "outputs": [
    {
     "name": "stdout",
     "output_type": "stream",
     "text": [
      "{'env name': 'dev1', 'prop1': 'value1', 'prop2': 'valu2', 'prop3': 'temp'}\n",
      "{'env name': 'prod', 'prop1': 'value1', 'prop2': 'value2', 'prop3': 'value3', 'prop4': 'value4'}\n",
      "File does not exist.\n"
     ]
    }
   ],
   "source": [
    "#!usr/bin/python3\n",
    "##Compare 2 propery files\n",
    "## And display differences in ref to another\n",
    "import csv\n",
    "import os.path\n",
    "\n",
    "def readFile(env_name, fileLoc):\n",
    "    fnpe = open(fileLoc)\n",
    "    #print(f.read())\n",
    "    propDict = {'env name':env_name}\n",
    "    h=False\n",
    "    line=fnpe.readline()\n",
    "    while line:\n",
    "        if \"=\" in line:\n",
    "            #print(\"Yes\")\n",
    "            #print(line)\n",
    "            keyVal= line.split(\"=\")\n",
    "            #print(keyVal[0])\n",
    "            propDict.update({keyVal[0]:keyVal[1].replace('\\n','')})\n",
    "        line=fnpe.readline()\n",
    "\n",
    "    #print(propDict['prop1'])\n",
    "    #print(type(propDict.keys()))\n",
    "    return propDict\n",
    "    \n",
    "def getKeyList(dictProp):\n",
    "    keysList = []\n",
    "    for key in dictProp.keys():\n",
    "        keysList.append(key)\n",
    "    #print(keysList)\n",
    "    return keysList\n",
    "\n",
    "\n",
    "def writeDictInHtml(dictname,outfileName):\n",
    "    if os.path.isfile(outfileName):\n",
    "        print(\"File does not exist.\")\n",
    "    else:\n",
    "       out = open(outfileName,'w+')   \n",
    "    \n",
    "dict1 = readFile('dev1','env1.properties')\n",
    "dict1Keys = getKeyList(dict1)\n",
    "dict2 = readFile('prod','env2.properties')\n",
    "dict2Keys = getKeyList(dict2)\n",
    "print(dict1)\n",
    "print(dict2)\n",
    "writeDictInHtml(dict1,'output_prop.html')\n",
    "\n",
    "if \"__name__\"==\"__main__\":\n",
    "    \n",
    "    pass\n",
    "\n",
    "\n",
    "\n",
    "\n",
    "#npeProp.read('npe.properties')\n",
    "#npeProp.get('prop1')\n"
   ]
  },
  {
   "cell_type": "code",
   "execution_count": null,
   "metadata": {},
   "outputs": [],
   "source": []
  },
  {
   "cell_type": "code",
   "execution_count": null,
   "metadata": {},
   "outputs": [],
   "source": []
  }
 ],
 "metadata": {
  "kernelspec": {
   "display_name": "Python 3",
   "language": "python",
   "name": "python3"
  },
  "language_info": {
   "codemirror_mode": {
    "name": "ipython",
    "version": 3
   },
   "file_extension": ".py",
   "mimetype": "text/x-python",
   "name": "python",
   "nbconvert_exporter": "python",
   "pygments_lexer": "ipython3",
   "version": "3.7.1"
  }
 },
 "nbformat": 4,
 "nbformat_minor": 2
}
