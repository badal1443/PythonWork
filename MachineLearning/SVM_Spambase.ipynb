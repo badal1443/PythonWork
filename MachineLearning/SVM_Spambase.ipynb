{
 "cells": [
  {
   "cell_type": "markdown",
   "metadata": {},
   "source": [
    "# Support Vector Mahine: Spam email."
   ]
  },
  {
   "cell_type": "code",
   "execution_count": 1,
   "metadata": {},
   "outputs": [],
   "source": [
    "#Import neessay packages\n",
    "import numpy as np\n",
    "import pandas as pd\n",
    "from sklearn import svm\n",
    "from sklearn.model_selection import train_test_split"
   ]
  },
  {
   "cell_type": "code",
   "execution_count": 39,
   "metadata": {},
   "outputs": [
    {
     "name": "stdout",
     "output_type": "stream",
     "text": [
      "Accuracy of this Model = 90.29688631426502%\n"
     ]
    }
   ],
   "source": [
    "dataCsv = pd.read_csv(\"./spambase.csv\",header=None)\n",
    "dataCsv = np.array(dataCsv)\n",
    "\n",
    "#dataX = dataCsv.head()\n",
    "dataX = dataCsv[:,:57]\n",
    "labelY = dataCsv[:,57:58]\n",
    "labelY = np.reshape(labelY,(1,4601))[0]\n",
    "\n",
    "data_train, data_test, label_train, label_test = train_test_split(dataX, labelY, test_size=0.3, random_state=0)\n",
    "\n",
    "clf = svm.SVC(C=3000.0, cache_size=200, class_weight=None, coef0=0.0,\n",
    "    decision_function_shape='ovr', degree=4, gamma='scale', kernel='rbf',\n",
    "    max_iter=10000000, probability=False, random_state=None, shrinking=True,\n",
    "    tol=0.001, verbose=False)\n",
    "\n",
    "clf.fit(data_train,label_train)\n",
    "pred = clf.predict(data_test)\n",
    "#####################\n",
    "##Accuracy of the Model\n",
    "df = pd.DataFrame({\"Predicted\":pred,\"Actual\":label_test},columns=[\"Predicted\",\"Actual\"])\n",
    "#print(df.head(20))\n",
    "\n",
    "ver = pred == label_test\n",
    "print(\"Accuracy of this Model = \"+str((sum(ver)/len(label_test))*100)+\"%\")\n"
   ]
  },
  {
   "cell_type": "code",
   "execution_count": null,
   "metadata": {},
   "outputs": [],
   "source": []
  }
 ],
 "metadata": {
  "kernelspec": {
   "display_name": "Python 3",
   "language": "python",
   "name": "python3"
  },
  "language_info": {
   "codemirror_mode": {
    "name": "ipython",
    "version": 3
   },
   "file_extension": ".py",
   "mimetype": "text/x-python",
   "name": "python",
   "nbconvert_exporter": "python",
   "pygments_lexer": "ipython3",
   "version": "3.7.1"
  }
 },
 "nbformat": 4,
 "nbformat_minor": 2
}
