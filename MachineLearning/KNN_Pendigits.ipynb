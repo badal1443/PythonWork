{
 "cells": [
  {
   "cell_type": "markdown",
   "metadata": {},
   "source": [
    "## KNN for Pendigits"
   ]
  },
  {
   "cell_type": "code",
   "execution_count": 114,
   "metadata": {},
   "outputs": [],
   "source": [
    "from sklearn.neighbors import KNeighborsClassifier\n",
    "from sklearn.model_selection import train_test_split\n",
    "from sklearn.metrics import confusion_matrix\n",
    "import numpy as np\n",
    "import pandas as pd\n",
    "import seaborn as sb\n",
    "import matplotlib.pyplot as plt\n",
    "\n",
    "%matplotlib inline"
   ]
  },
  {
   "cell_type": "code",
   "execution_count": 70,
   "metadata": {},
   "outputs": [
    {
     "name": "stdout",
     "output_type": "stream",
     "text": [
      "    0    1   2    3    4    5    6    7    8   9    10  11   12   13   14  \\\n",
      "0   47  100  27   81   57   37   26    0    0  23   56  53  100   90   40   \n",
      "1    0   89  27  100   42   75   29   45   15  15   37   0   69    2  100   \n",
      "2    0   57  31   68   72   90  100  100   76  75   50  51   28   25   16   \n",
      "3    0  100   7   92    5   68   19   45   86  34  100  45   74   23   67   \n",
      "4    0   67  49   83  100  100   81   80   60  60   40  40   33   20   47   \n",
      "5  100  100  88   99   49   74   17   47    0  16   37   0   73   16   20   \n",
      "6    0  100   3   72   26   35   85   35  100  71   73  97   65   49   66   \n",
      "7    0   39   2   62   11    5   63    0  100  43   89  99   36  100    0   \n",
      "8   13   89  12   50   72   38   56    0    4  17    0  61   32   94  100   \n",
      "9   57  100  22   72    0   31   25    0   75  13  100  50   75   87   26   \n",
      "\n",
      "    15  16  \n",
      "0   98   8  \n",
      "1    6   2  \n",
      "2    0   1  \n",
      "3    0   4  \n",
      "4    0   1  \n",
      "5   20   6  \n",
      "6    0   4  \n",
      "7   57   0  \n",
      "8  100   5  \n",
      "9   85   0  \n"
     ]
    }
   ],
   "source": [
    "df = pd.read_csv('./pendigits.csv',header=None)\n",
    "print(df.head(10))\n",
    "data = df.iloc[:,0:16]\n",
    "labels = df.iloc[:,16:17]\n",
    "#labels.stack()"
   ]
  },
  {
   "cell_type": "code",
   "execution_count": 71,
   "metadata": {},
   "outputs": [
    {
     "data": {
      "text/plain": [
       "(10992,)"
      ]
     },
     "execution_count": 71,
     "metadata": {},
     "output_type": "execute_result"
    }
   ],
   "source": [
    "data.head(5)\n",
    "labels.head()\n",
    "\n",
    "labels = labels.unstack()\n",
    "labels.shape"
   ]
  },
  {
   "cell_type": "code",
   "execution_count": 72,
   "metadata": {},
   "outputs": [
    {
     "data": {
      "text/plain": [
       "KNeighborsClassifier(algorithm='auto', leaf_size=15, metric='minkowski',\n",
       "           metric_params=None, n_jobs=1, n_neighbors=9, p=2,\n",
       "           weights='uniform')"
      ]
     },
     "execution_count": 72,
     "metadata": {},
     "output_type": "execute_result"
    }
   ],
   "source": [
    "train_data,test_data,train_label,test_label = train_test_split(data,labels,test_size=0.2,random_state=16)\n",
    "knn = KNeighborsClassifier(n_neighbors=9,algorithm='auto',leaf_size=15,p=2,metric='minkowski',metric_params=None,n_jobs=1)\n",
    "knn.fit(train_data,train_label)"
   ]
  },
  {
   "cell_type": "code",
   "execution_count": 75,
   "metadata": {},
   "outputs": [
    {
     "data": {
      "text/plain": [
       "(2199,)"
      ]
     },
     "execution_count": 75,
     "metadata": {},
     "output_type": "execute_result"
    }
   ],
   "source": [
    "\n",
    "pred = knn.predict(test_data)\n",
    "pred.shape"
   ]
  },
  {
   "cell_type": "code",
   "execution_count": 98,
   "metadata": {},
   "outputs": [
    {
     "name": "stdout",
     "output_type": "stream",
     "text": [
      "          Predicted  Actual\n",
      "16 2655           8       8\n",
      "   7442           5       5\n",
      "   4149           3       3\n",
      "   10561          9       9\n",
      "   6512           6       6\n"
     ]
    }
   ],
   "source": [
    "accuracy_comp_table = pd.DataFrame({\"Predicted\":pred,\"Actual\":test_label})\n",
    "print(accuracy_comp_table.tail(5))\n",
    "ver = pred == test_label"
   ]
  },
  {
   "cell_type": "code",
   "execution_count": 115,
   "metadata": {},
   "outputs": [
    {
     "name": "stdout",
     "output_type": "stream",
     "text": [
      "Accurcy of this model =  99.31787175989086\n"
     ]
    },
    {
     "data": {
      "text/plain": [
       "array([0, 1, 2, 3, 4, 5, 6, 7, 8, 9])"
      ]
     },
     "execution_count": 115,
     "metadata": {},
     "output_type": "execute_result"
    }
   ],
   "source": [
    "accurcy = (sum(ver)/len(test_label))*100\n",
    "print(\"Accurcy of this model = \",accurcy)\n",
    "#np.unique(labels)"
   ]
  },
  {
   "cell_type": "code",
   "execution_count": 124,
   "metadata": {},
   "outputs": [
    {
     "data": {
      "image/png": "[encoded data removed]",
      "text/plain": [
       "<Figure size 864x864 with 2 Axes>"
      ]
     },
     "metadata": {
      "needs_background": "light"
     },
     "output_type": "display_data"
    }
   ],
   "source": [
    "confusion_mat = confusion_matrix(test_label,pred)\n",
    "p, ax = plt.subplots(figsize=(12,12))\n",
    "ax.set_title(\"Confusion matrix for handwritten digits.\")\n",
    "sb.heatmap(confusion_mat.T,square=True,annot=True,fmt='d', cbar=True,cmap=\"Greens\",\n",
    "            xticklabels=np.unique(labels),\n",
    "            yticklabels=np.unique(labels),linewidths=.5, ax=ax)\n",
    "plt.xlabel('True class')\n",
    "plt.ylabel('Predicted class');\n"
   ]
  },
  {
   "cell_type": "code",
   "execution_count": null,
   "metadata": {},
   "outputs": [],
   "source": []
  }
 ],
 "metadata": {
  "kernelspec": {
   "display_name": "Python 3",
   "language": "python",
   "name": "python3"
  },
  "language_info": {
   "codemirror_mode": {
    "name": "ipython",
    "version": 3
   },
   "file_extension": ".py",
   "mimetype": "text/x-python",
   "name": "python",
   "nbconvert_exporter": "python",
   "pygments_lexer": "ipython3",
   "version": "3.7.1"
  }
 },
 "nbformat": 4,
 "nbformat_minor": 2
}
